{
 "cells": [
  {
   "cell_type": "code",
   "execution_count": 1,
   "id": "0eeb7656",
   "metadata": {},
   "outputs": [],
   "source": [
    "import numpy as np\n",
    "import pandas as pd\n",
    "import seaborn as sbn\n",
    "import matplotlib.pyplot as plt\n",
    "from yardımcı.EDA import*\n",
    "from yardımcı.DATA_PREP import*\n",
    "from yardımcı.GORSEL import*"
   ]
  },
  {
   "cell_type": "markdown",
   "id": "63c3acc9",
   "metadata": {},
   "source": [
    "# DEĞİŞKEN AÇIKLAMASI\n",
    "\n",
    "PassengerId: her yolcu için kimlik numarası\n",
    "Survived: yolcu hayatta kaldı (1) ya da öldü (0) \n",
    "Pclass: yolcu sınıfı \n",
    "Name: isim \n",
    "Sex: yolcu cinsyeti \n",
    "Age: yolcu yaşı \n",
    "SibSp: kardeş / eş sayısı \n",
    "Parch: ebeveyn / çocuk sayısı \n",
    "Ticket: Bilet numarası \n",
    "Fare: Bilete harcanan para miktarı \n",
    "Cabin: Kabin Kategorisi \n",
    "Embarked: yolcunun bindiği liman (C = Cherbourg, Q = Queenstown, S = Southampton)"
   ]
  },
  {
   "cell_type": "code",
   "execution_count": 2,
   "id": "ba205dba",
   "metadata": {},
   "outputs": [
    {
     "data": {
      "text/html": [
       "<div>\n",
       "<style scoped>\n",
       "    .dataframe tbody tr th:only-of-type {\n",
       "        vertical-align: middle;\n",
       "    }\n",
       "\n",
       "    .dataframe tbody tr th {\n",
       "        vertical-align: top;\n",
       "    }\n",
       "\n",
       "    .dataframe thead th {\n",
       "        text-align: right;\n",
       "    }\n",
       "</style>\n",
       "<table border=\"1\" class=\"dataframe\">\n",
       "  <thead>\n",
       "    <tr style=\"text-align: right;\">\n",
       "      <th></th>\n",
       "      <th>PassengerId</th>\n",
       "      <th>Survived</th>\n",
       "      <th>Pclass</th>\n",
       "      <th>Name</th>\n",
       "      <th>Sex</th>\n",
       "      <th>Age</th>\n",
       "      <th>SibSp</th>\n",
       "      <th>Parch</th>\n",
       "      <th>Ticket</th>\n",
       "      <th>Fare</th>\n",
       "      <th>Cabin</th>\n",
       "      <th>Embarked</th>\n",
       "    </tr>\n",
       "  </thead>\n",
       "  <tbody>\n",
       "    <tr>\n",
       "      <th>0</th>\n",
       "      <td>1</td>\n",
       "      <td>0</td>\n",
       "      <td>3</td>\n",
       "      <td>Braund, Mr. Owen Harris</td>\n",
       "      <td>male</td>\n",
       "      <td>22.000</td>\n",
       "      <td>1</td>\n",
       "      <td>0</td>\n",
       "      <td>A/5 21171</td>\n",
       "      <td>7.250</td>\n",
       "      <td>NaN</td>\n",
       "      <td>S</td>\n",
       "    </tr>\n",
       "    <tr>\n",
       "      <th>1</th>\n",
       "      <td>2</td>\n",
       "      <td>1</td>\n",
       "      <td>1</td>\n",
       "      <td>Cumings, Mrs. John Bradley (Florence Briggs Th...</td>\n",
       "      <td>female</td>\n",
       "      <td>38.000</td>\n",
       "      <td>1</td>\n",
       "      <td>0</td>\n",
       "      <td>PC 17599</td>\n",
       "      <td>71.283</td>\n",
       "      <td>C85</td>\n",
       "      <td>C</td>\n",
       "    </tr>\n",
       "    <tr>\n",
       "      <th>2</th>\n",
       "      <td>3</td>\n",
       "      <td>1</td>\n",
       "      <td>3</td>\n",
       "      <td>Heikkinen, Miss. Laina</td>\n",
       "      <td>female</td>\n",
       "      <td>26.000</td>\n",
       "      <td>0</td>\n",
       "      <td>0</td>\n",
       "      <td>STON/O2. 3101282</td>\n",
       "      <td>7.925</td>\n",
       "      <td>NaN</td>\n",
       "      <td>S</td>\n",
       "    </tr>\n",
       "    <tr>\n",
       "      <th>3</th>\n",
       "      <td>4</td>\n",
       "      <td>1</td>\n",
       "      <td>1</td>\n",
       "      <td>Futrelle, Mrs. Jacques Heath (Lily May Peel)</td>\n",
       "      <td>female</td>\n",
       "      <td>35.000</td>\n",
       "      <td>1</td>\n",
       "      <td>0</td>\n",
       "      <td>113803</td>\n",
       "      <td>53.100</td>\n",
       "      <td>C123</td>\n",
       "      <td>S</td>\n",
       "    </tr>\n",
       "    <tr>\n",
       "      <th>4</th>\n",
       "      <td>5</td>\n",
       "      <td>0</td>\n",
       "      <td>3</td>\n",
       "      <td>Allen, Mr. William Henry</td>\n",
       "      <td>male</td>\n",
       "      <td>35.000</td>\n",
       "      <td>0</td>\n",
       "      <td>0</td>\n",
       "      <td>373450</td>\n",
       "      <td>8.050</td>\n",
       "      <td>NaN</td>\n",
       "      <td>S</td>\n",
       "    </tr>\n",
       "  </tbody>\n",
       "</table>\n",
       "</div>"
      ],
      "text/plain": [
       "   PassengerId  Survived  Pclass                                               Name     Sex    Age  SibSp  Parch            Ticket   Fare Cabin Embarked\n",
       "0            1         0       3                            Braund, Mr. Owen Harris    male 22.000      1      0         A/5 21171  7.250   NaN        S\n",
       "1            2         1       1  Cumings, Mrs. John Bradley (Florence Briggs Th...  female 38.000      1      0          PC 17599 71.283   C85        C\n",
       "2            3         1       3                             Heikkinen, Miss. Laina  female 26.000      0      0  STON/O2. 3101282  7.925   NaN        S\n",
       "3            4         1       1       Futrelle, Mrs. Jacques Heath (Lily May Peel)  female 35.000      1      0            113803 53.100  C123        S\n",
       "4            5         0       3                           Allen, Mr. William Henry    male 35.000      0      0            373450  8.050   NaN        S"
      ]
     },
     "execution_count": 2,
     "metadata": {},
     "output_type": "execute_result"
    }
   ],
   "source": [
    "df=pd.read_csv(\"titanic.csv\")\n",
    "df.head()"
   ]
  },
  {
   "cell_type": "code",
   "execution_count": 3,
   "id": "832b01c6",
   "metadata": {},
   "outputs": [
    {
     "data": {
      "text/plain": [
       "(891, 12)"
      ]
     },
     "execution_count": 3,
     "metadata": {},
     "output_type": "execute_result"
    }
   ],
   "source": [
    "df.shape"
   ]
  },
  {
   "cell_type": "code",
   "execution_count": 4,
   "id": "9ab2dba9",
   "metadata": {},
   "outputs": [
    {
     "name": "stdout",
     "output_type": "stream",
     "text": [
      "<class 'pandas.core.frame.DataFrame'>\n",
      "RangeIndex: 891 entries, 0 to 890\n",
      "Data columns (total 12 columns):\n",
      " #   Column       Non-Null Count  Dtype  \n",
      "---  ------       --------------  -----  \n",
      " 0   PassengerId  891 non-null    int64  \n",
      " 1   Survived     891 non-null    int64  \n",
      " 2   Pclass       891 non-null    int64  \n",
      " 3   Name         891 non-null    object \n",
      " 4   Sex          891 non-null    object \n",
      " 5   Age          714 non-null    float64\n",
      " 6   SibSp        891 non-null    int64  \n",
      " 7   Parch        891 non-null    int64  \n",
      " 8   Ticket       891 non-null    object \n",
      " 9   Fare         891 non-null    float64\n",
      " 10  Cabin        204 non-null    object \n",
      " 11  Embarked     889 non-null    object \n",
      "dtypes: float64(2), int64(5), object(5)\n",
      "memory usage: 83.7+ KB\n"
     ]
    }
   ],
   "source": [
    "df.info()"
   ]
  },
  {
   "cell_type": "raw",
   "id": "fb33e847",
   "metadata": {},
   "source": [
    "Age kısmında 177\n",
    "Cabin kısmında 687\n",
    "Embarked kısmında 2 adet null değer vardır "
   ]
  },
  {
   "cell_type": "code",
   "execution_count": 5,
   "id": "5ec78a39",
   "metadata": {},
   "outputs": [
    {
     "data": {
      "text/html": [
       "<div>\n",
       "<style scoped>\n",
       "    .dataframe tbody tr th:only-of-type {\n",
       "        vertical-align: middle;\n",
       "    }\n",
       "\n",
       "    .dataframe tbody tr th {\n",
       "        vertical-align: top;\n",
       "    }\n",
       "\n",
       "    .dataframe thead th {\n",
       "        text-align: right;\n",
       "    }\n",
       "</style>\n",
       "<table border=\"1\" class=\"dataframe\">\n",
       "  <thead>\n",
       "    <tr style=\"text-align: right;\">\n",
       "      <th></th>\n",
       "      <th>count</th>\n",
       "      <th>mean</th>\n",
       "      <th>std</th>\n",
       "      <th>min</th>\n",
       "      <th>25%</th>\n",
       "      <th>50%</th>\n",
       "      <th>75%</th>\n",
       "      <th>max</th>\n",
       "    </tr>\n",
       "  </thead>\n",
       "  <tbody>\n",
       "    <tr>\n",
       "      <th>PassengerId</th>\n",
       "      <td>891.000</td>\n",
       "      <td>446.000</td>\n",
       "      <td>257.354</td>\n",
       "      <td>1.000</td>\n",
       "      <td>223.500</td>\n",
       "      <td>446.000</td>\n",
       "      <td>668.500</td>\n",
       "      <td>891.000</td>\n",
       "    </tr>\n",
       "    <tr>\n",
       "      <th>Survived</th>\n",
       "      <td>891.000</td>\n",
       "      <td>0.384</td>\n",
       "      <td>0.487</td>\n",
       "      <td>0.000</td>\n",
       "      <td>0.000</td>\n",
       "      <td>0.000</td>\n",
       "      <td>1.000</td>\n",
       "      <td>1.000</td>\n",
       "    </tr>\n",
       "    <tr>\n",
       "      <th>Pclass</th>\n",
       "      <td>891.000</td>\n",
       "      <td>2.309</td>\n",
       "      <td>0.836</td>\n",
       "      <td>1.000</td>\n",
       "      <td>2.000</td>\n",
       "      <td>3.000</td>\n",
       "      <td>3.000</td>\n",
       "      <td>3.000</td>\n",
       "    </tr>\n",
       "    <tr>\n",
       "      <th>Age</th>\n",
       "      <td>714.000</td>\n",
       "      <td>29.699</td>\n",
       "      <td>14.526</td>\n",
       "      <td>0.420</td>\n",
       "      <td>20.125</td>\n",
       "      <td>28.000</td>\n",
       "      <td>38.000</td>\n",
       "      <td>80.000</td>\n",
       "    </tr>\n",
       "    <tr>\n",
       "      <th>SibSp</th>\n",
       "      <td>891.000</td>\n",
       "      <td>0.523</td>\n",
       "      <td>1.103</td>\n",
       "      <td>0.000</td>\n",
       "      <td>0.000</td>\n",
       "      <td>0.000</td>\n",
       "      <td>1.000</td>\n",
       "      <td>8.000</td>\n",
       "    </tr>\n",
       "    <tr>\n",
       "      <th>Parch</th>\n",
       "      <td>891.000</td>\n",
       "      <td>0.382</td>\n",
       "      <td>0.806</td>\n",
       "      <td>0.000</td>\n",
       "      <td>0.000</td>\n",
       "      <td>0.000</td>\n",
       "      <td>0.000</td>\n",
       "      <td>6.000</td>\n",
       "    </tr>\n",
       "    <tr>\n",
       "      <th>Fare</th>\n",
       "      <td>891.000</td>\n",
       "      <td>32.204</td>\n",
       "      <td>49.693</td>\n",
       "      <td>0.000</td>\n",
       "      <td>7.910</td>\n",
       "      <td>14.454</td>\n",
       "      <td>31.000</td>\n",
       "      <td>512.329</td>\n",
       "    </tr>\n",
       "  </tbody>\n",
       "</table>\n",
       "</div>"
      ],
      "text/plain": [
       "              count    mean     std   min     25%     50%     75%     max\n",
       "PassengerId 891.000 446.000 257.354 1.000 223.500 446.000 668.500 891.000\n",
       "Survived    891.000   0.384   0.487 0.000   0.000   0.000   1.000   1.000\n",
       "Pclass      891.000   2.309   0.836 1.000   2.000   3.000   3.000   3.000\n",
       "Age         714.000  29.699  14.526 0.420  20.125  28.000  38.000  80.000\n",
       "SibSp       891.000   0.523   1.103 0.000   0.000   0.000   1.000   8.000\n",
       "Parch       891.000   0.382   0.806 0.000   0.000   0.000   0.000   6.000\n",
       "Fare        891.000  32.204  49.693 0.000   7.910  14.454  31.000 512.329"
      ]
     },
     "execution_count": 5,
     "metadata": {},
     "output_type": "execute_result"
    }
   ],
   "source": [
    "df.describe().T"
   ]
  },
  {
   "cell_type": "markdown",
   "id": "827ea393",
   "metadata": {},
   "source": [
    "\n",
    "kategorik değişkenlerde : Survived Sex ve Embarked var\n",
    "numerik değişkenlerde : Age Fare SibSp Parch \n"
   ]
  },
  {
   "cell_type": "code",
   "execution_count": 6,
   "id": "8313fa52",
   "metadata": {},
   "outputs": [
    {
     "data": {
      "text/plain": [
       "True"
      ]
     },
     "execution_count": 6,
     "metadata": {},
     "output_type": "execute_result"
    }
   ],
   "source": [
    "df.isnull().values.any()\n",
    "#hiç null değer var mı diye sorgulattım"
   ]
  },
  {
   "cell_type": "code",
   "execution_count": 7,
   "id": "20c11e02",
   "metadata": {},
   "outputs": [
    {
     "data": {
      "text/plain": [
       "PassengerId      0\n",
       "Survived         0\n",
       "Pclass           0\n",
       "Name             0\n",
       "Sex              0\n",
       "Age            177\n",
       "SibSp            0\n",
       "Parch            0\n",
       "Ticket           0\n",
       "Fare             0\n",
       "Cabin          687\n",
       "Embarked         2\n",
       "dtype: int64"
      ]
     },
     "execution_count": 7,
     "metadata": {},
     "output_type": "execute_result"
    }
   ],
   "source": [
    "df.isnull().sum()\n",
    "#toplam null değerleri yazdırdım"
   ]
  },
  {
   "cell_type": "code",
   "execution_count": 8,
   "id": "7bac6062",
   "metadata": {},
   "outputs": [
    {
     "name": "stdout",
     "output_type": "stream",
     "text": [
      "##################### Shape #####################\n",
      "(891, 12)\n",
      "##################### Types #####################\n",
      "PassengerId      int64\n",
      "Survived         int64\n",
      "Pclass           int64\n",
      "Name            object\n",
      "Sex             object\n",
      "Age            float64\n",
      "SibSp            int64\n",
      "Parch            int64\n",
      "Ticket          object\n",
      "Fare           float64\n",
      "Cabin           object\n",
      "Embarked        object\n",
      "dtype: object\n",
      "##################### Head #####################\n",
      "   PassengerId  Survived  Pclass                                               Name     Sex    Age  SibSp  Parch            Ticket   Fare Cabin Embarked\n",
      "0            1         0       3                            Braund, Mr. Owen Harris    male 22.000      1      0         A/5 21171  7.250   NaN        S\n",
      "1            2         1       1  Cumings, Mrs. John Bradley (Florence Briggs Th...  female 38.000      1      0          PC 17599 71.283   C85        C\n",
      "2            3         1       3                             Heikkinen, Miss. Laina  female 26.000      0      0  STON/O2. 3101282  7.925   NaN        S\n",
      "3            4         1       1       Futrelle, Mrs. Jacques Heath (Lily May Peel)  female 35.000      1      0            113803 53.100  C123        S\n",
      "4            5         0       3                           Allen, Mr. William Henry    male 35.000      0      0            373450  8.050   NaN        S\n",
      "##################### Tail #####################\n",
      "     PassengerId  Survived  Pclass                                      Name     Sex    Age  SibSp  Parch      Ticket   Fare Cabin Embarked\n",
      "886          887         0       2                     Montvila, Rev. Juozas    male 27.000      0      0      211536 13.000   NaN        S\n",
      "887          888         1       1              Graham, Miss. Margaret Edith  female 19.000      0      0      112053 30.000   B42        S\n",
      "888          889         0       3  Johnston, Miss. Catherine Helen \"Carrie\"  female    NaN      1      2  W./C. 6607 23.450   NaN        S\n",
      "889          890         1       1                     Behr, Mr. Karl Howell    male 26.000      0      0      111369 30.000  C148        C\n",
      "890          891         0       3                       Dooley, Mr. Patrick    male 32.000      0      0      370376  7.750   NaN        Q\n",
      "##################### NA #####################\n",
      "PassengerId      0\n",
      "Survived         0\n",
      "Pclass           0\n",
      "Name             0\n",
      "Sex              0\n",
      "Age            177\n",
      "SibSp            0\n",
      "Parch            0\n",
      "Ticket           0\n",
      "Fare             0\n",
      "Cabin          687\n",
      "Embarked         2\n",
      "dtype: int64\n",
      "##################### Quantiles #####################\n",
      "             0.000  0.050   0.500   0.950   0.990   1.000\n",
      "PassengerId  1.000 45.500 446.000 846.500 882.100 891.000\n",
      "Survived     0.000  0.000   0.000   1.000   1.000   1.000\n",
      "Pclass       1.000  1.000   3.000   3.000   3.000   3.000\n",
      "Age          0.420  4.000  28.000  56.000  65.870  80.000\n",
      "SibSp        0.000  0.000   0.000   3.000   5.000   8.000\n",
      "Parch        0.000  0.000   0.000   2.000   4.000   6.000\n",
      "Fare         0.000  7.225  14.454 112.079 249.006 512.329\n"
     ]
    }
   ],
   "source": [
    "check_df(df, head=5)\n",
    "#ilk 5 satırın kontrolünü yaptırdım"
   ]
  },
  {
   "cell_type": "code",
   "execution_count": 9,
   "id": "0f6bb12e",
   "metadata": {},
   "outputs": [
    {
     "name": "stdout",
     "output_type": "stream",
     "text": [
      "Observations: 891\n",
      "Variables: 12\n",
      "cat_cols: 6\n",
      "num_cols: 3\n",
      "cat_but_car: 3\n",
      "num_but_cat: 4\n"
     ]
    },
    {
     "data": {
      "text/plain": [
       "(['Sex', 'Embarked', 'Survived', 'Pclass', 'SibSp', 'Parch'],\n",
       " ['PassengerId', 'Age', 'Fare'],\n",
       " ['Name', 'Ticket', 'Cabin'])"
      ]
     },
     "execution_count": 9,
     "metadata": {},
     "output_type": "execute_result"
    }
   ],
   "source": [
    "grab_col_names(df, cat_th=10, car_th=20)\n",
    "#kaçar tane numerik ve kategorik değerlerimizin olduğunu sorgulattım\n",
    "#kategorik değişkenlerde : Survived Sex ve Embarked var\n",
    "#numerik değişkenlerde : Age Fare SibSp Parch \n"
   ]
  },
  {
   "cell_type": "code",
   "execution_count": 10,
   "id": "ee9e0b47",
   "metadata": {},
   "outputs": [
    {
     "name": "stdout",
     "output_type": "stream",
     "text": [
      "     PassengerId  Ratio\n",
      "1              1  0.112\n",
      "599            1  0.112\n",
      "588            1  0.112\n",
      "589            1  0.112\n",
      "590            1  0.112\n",
      "..           ...    ...\n",
      "301            1  0.112\n",
      "302            1  0.112\n",
      "303            1  0.112\n",
      "304            1  0.112\n",
      "891            1  0.112\n",
      "\n",
      "[891 rows x 2 columns]\n",
      "##########################################\n",
      "-------------\n",
      "   Survived  Ratio\n",
      "0       549 61.616\n",
      "1       342 38.384\n",
      "##########################################\n",
      "-------------\n",
      "   Pclass  Ratio\n",
      "3     491 55.107\n",
      "1     216 24.242\n",
      "2     184 20.651\n",
      "##########################################\n",
      "-------------\n",
      "                                          Name  Ratio\n",
      "Braund, Mr. Owen Harris                      1  0.112\n",
      "Boulos, Mr. Hanna                            1  0.112\n",
      "Frolicher-Stehli, Mr. Maxmillian             1  0.112\n",
      "Gilinski, Mr. Eliezer                        1  0.112\n",
      "Murdlin, Mr. Joseph                          1  0.112\n",
      "...                                        ...    ...\n",
      "Kelly, Miss. Anna Katherine \"Annie Kate\"     1  0.112\n",
      "McCoy, Mr. Bernard                           1  0.112\n",
      "Johnson, Mr. William Cahoone Jr              1  0.112\n",
      "Keane, Miss. Nora A                          1  0.112\n",
      "Dooley, Mr. Patrick                          1  0.112\n",
      "\n",
      "[891 rows x 2 columns]\n",
      "##########################################\n",
      "-------------\n",
      "        Sex  Ratio\n",
      "male    577 64.759\n",
      "female  314 35.241\n",
      "##########################################\n",
      "-------------\n",
      "        Age  Ratio\n",
      "24.000   30  3.367\n",
      "22.000   27  3.030\n",
      "18.000   26  2.918\n",
      "19.000   25  2.806\n",
      "28.000   25  2.806\n",
      "...     ...    ...\n",
      "36.500    1  0.112\n",
      "55.500    1  0.112\n",
      "0.920     1  0.112\n",
      "23.500    1  0.112\n",
      "74.000    1  0.112\n",
      "\n",
      "[88 rows x 2 columns]\n",
      "##########################################\n",
      "-------------\n",
      "   SibSp  Ratio\n",
      "0    608 68.238\n",
      "1    209 23.457\n",
      "2     28  3.143\n",
      "4     18  2.020\n",
      "3     16  1.796\n",
      "8      7  0.786\n",
      "5      5  0.561\n",
      "##########################################\n",
      "-------------\n",
      "   Parch  Ratio\n",
      "0    678 76.094\n",
      "1    118 13.244\n",
      "2     80  8.979\n",
      "5      5  0.561\n",
      "3      5  0.561\n",
      "4      4  0.449\n",
      "6      1  0.112\n",
      "##########################################\n",
      "-------------\n",
      "          Ticket  Ratio\n",
      "347082         7  0.786\n",
      "CA. 2343       7  0.786\n",
      "1601           7  0.786\n",
      "3101295        6  0.673\n",
      "CA 2144        6  0.673\n",
      "...          ...    ...\n",
      "9234           1  0.112\n",
      "19988          1  0.112\n",
      "2693           1  0.112\n",
      "PC 17612       1  0.112\n",
      "370376         1  0.112\n",
      "\n",
      "[681 rows x 2 columns]\n",
      "##########################################\n",
      "-------------\n",
      "        Fare  Ratio\n",
      "8.050     43  4.826\n",
      "13.000    42  4.714\n",
      "7.896     38  4.265\n",
      "7.750     34  3.816\n",
      "26.000    31  3.479\n",
      "...      ...    ...\n",
      "35.000     1  0.112\n",
      "28.500     1  0.112\n",
      "6.237      1  0.112\n",
      "14.000     1  0.112\n",
      "10.517     1  0.112\n",
      "\n",
      "[248 rows x 2 columns]\n",
      "##########################################\n",
      "-------------\n",
      "             Cabin  Ratio\n",
      "B96 B98          4  0.449\n",
      "G6               4  0.449\n",
      "C23 C25 C27      4  0.449\n",
      "C22 C26          3  0.337\n",
      "F33              3  0.337\n",
      "...            ...    ...\n",
      "E34              1  0.112\n",
      "C7               1  0.112\n",
      "C54              1  0.112\n",
      "E36              1  0.112\n",
      "C148             1  0.112\n",
      "\n",
      "[147 rows x 2 columns]\n",
      "##########################################\n",
      "-------------\n",
      "   Embarked  Ratio\n",
      "S       644 72.278\n",
      "C       168 18.855\n",
      "Q        77  8.642\n",
      "##########################################\n",
      "-------------\n"
     ]
    }
   ],
   "source": [
    "for i in df.columns:\n",
    "    \n",
    "    cat_summary(df,i, plot=False)\n",
    "    print(\"-------------\")\n",
    "    \n"
   ]
  },
  {
   "cell_type": "raw",
   "id": "64e53834",
   "metadata": {},
   "source": [
    "yukarıda for döngüsü ile tüm kategorik değişkenler için analiz yaptırdım"
   ]
  },
  {
   "cell_type": "code",
   "execution_count": 11,
   "id": "53ec7335",
   "metadata": {},
   "outputs": [
    {
     "name": "stdout",
     "output_type": "stream",
     "text": [
      "   Survived  Ratio\n",
      "0       549 61.616\n",
      "1       342 38.384\n",
      "##########################################\n"
     ]
    }
   ],
   "source": [
    "cat_summary(df,\"Survived\", plot=False)"
   ]
  },
  {
   "cell_type": "code",
   "execution_count": 12,
   "id": "b791ac0f",
   "metadata": {},
   "outputs": [
    {
     "name": "stdout",
     "output_type": "stream",
     "text": [
      "   Pclass  Ratio\n",
      "3     491 55.107\n",
      "1     216 24.242\n",
      "2     184 20.651\n",
      "##########################################\n"
     ]
    }
   ],
   "source": [
    "cat_summary(df,\"Pclass\", plot=False)"
   ]
  },
  {
   "cell_type": "code",
   "execution_count": 13,
   "id": "99e3a74e",
   "metadata": {},
   "outputs": [
    {
     "name": "stdout",
     "output_type": "stream",
     "text": [
      "        Sex  Ratio\n",
      "male    577 64.759\n",
      "female  314 35.241\n",
      "##########################################\n"
     ]
    }
   ],
   "source": [
    "cat_summary(df,\"Sex\", plot=False)\n",
    "#kategorik değişken olan Sex için analiz yaptırdım \n",
    "#%64.759 erkek  %35.241 kadın var \n"
   ]
  },
  {
   "cell_type": "code",
   "execution_count": 14,
   "id": "88b2fcad",
   "metadata": {},
   "outputs": [
    {
     "name": "stdout",
     "output_type": "stream",
     "text": [
      "   Embarked  Ratio\n",
      "S       644 72.278\n",
      "C       168 18.855\n",
      "Q        77  8.642\n",
      "##########################################\n"
     ]
    }
   ],
   "source": [
    "cat_summary(df,\"Embarked\", plot=False)\n",
    "#kategorik değişken olan Sex için analiz yaptırdım \n",
    "#S clasında %72.278 C clasında %18.855 Q clasında %8.642 kişi sehayat etmiştir"
   ]
  },
  {
   "cell_type": "code",
   "execution_count": 15,
   "id": "ce31fc0c",
   "metadata": {},
   "outputs": [
    {
     "name": "stdout",
     "output_type": "stream",
     "text": [
      "count   891.000\n",
      "mean    446.000\n",
      "std     257.354\n",
      "min       1.000\n",
      "5%       45.500\n",
      "10%      90.000\n",
      "20%     179.000\n",
      "30%     268.000\n",
      "40%     357.000\n",
      "50%     446.000\n",
      "60%     535.000\n",
      "70%     624.000\n",
      "80%     713.000\n",
      "90%     802.000\n",
      "95%     846.500\n",
      "99%     882.100\n",
      "max     891.000\n",
      "Name: PassengerId, dtype: float64\n",
      "-------------\n",
      "count   891.000\n",
      "mean      0.384\n",
      "std       0.487\n",
      "min       0.000\n",
      "5%        0.000\n",
      "10%       0.000\n",
      "20%       0.000\n",
      "30%       0.000\n",
      "40%       0.000\n",
      "50%       0.000\n",
      "60%       0.000\n",
      "70%       1.000\n",
      "80%       1.000\n",
      "90%       1.000\n",
      "95%       1.000\n",
      "99%       1.000\n",
      "max       1.000\n",
      "Name: Survived, dtype: float64\n",
      "-------------\n",
      "count   891.000\n",
      "mean      2.309\n",
      "std       0.836\n",
      "min       1.000\n",
      "5%        1.000\n",
      "10%       1.000\n",
      "20%       1.000\n",
      "30%       2.000\n",
      "40%       2.000\n",
      "50%       3.000\n",
      "60%       3.000\n",
      "70%       3.000\n",
      "80%       3.000\n",
      "90%       3.000\n",
      "95%       3.000\n",
      "99%       3.000\n",
      "max       3.000\n",
      "Name: Pclass, dtype: float64\n",
      "-------------\n",
      "count                         891\n",
      "unique                        891\n",
      "top       Braund, Mr. Owen Harris\n",
      "freq                            1\n",
      "Name: Name, dtype: object\n",
      "-------------\n",
      "count      891\n",
      "unique       2\n",
      "top       male\n",
      "freq       577\n",
      "Name: Sex, dtype: object\n",
      "-------------\n",
      "count   714.000\n",
      "mean     29.699\n",
      "std      14.526\n",
      "min       0.420\n",
      "5%        4.000\n",
      "10%      14.000\n",
      "20%      19.000\n",
      "30%      22.000\n",
      "40%      25.000\n",
      "50%      28.000\n",
      "60%      31.800\n",
      "70%      36.000\n",
      "80%      41.000\n",
      "90%      50.000\n",
      "95%      56.000\n",
      "99%      65.870\n",
      "max      80.000\n",
      "Name: Age, dtype: float64\n",
      "-------------\n",
      "count   891.000\n",
      "mean      0.523\n",
      "std       1.103\n",
      "min       0.000\n",
      "5%        0.000\n",
      "10%       0.000\n",
      "20%       0.000\n",
      "30%       0.000\n",
      "40%       0.000\n",
      "50%       0.000\n",
      "60%       0.000\n",
      "70%       1.000\n",
      "80%       1.000\n",
      "90%       1.000\n",
      "95%       3.000\n",
      "99%       5.000\n",
      "max       8.000\n",
      "Name: SibSp, dtype: float64\n",
      "-------------\n",
      "count   891.000\n",
      "mean      0.382\n",
      "std       0.806\n",
      "min       0.000\n",
      "5%        0.000\n",
      "10%       0.000\n",
      "20%       0.000\n",
      "30%       0.000\n",
      "40%       0.000\n",
      "50%       0.000\n",
      "60%       0.000\n",
      "70%       0.000\n",
      "80%       1.000\n",
      "90%       2.000\n",
      "95%       2.000\n",
      "99%       4.000\n",
      "max       6.000\n",
      "Name: Parch, dtype: float64\n",
      "-------------\n",
      "count        891\n",
      "unique       681\n",
      "top       347082\n",
      "freq           7\n",
      "Name: Ticket, dtype: object\n",
      "-------------\n",
      "count   891.000\n",
      "mean     32.204\n",
      "std      49.693\n",
      "min       0.000\n",
      "5%        7.225\n",
      "10%       7.550\n",
      "20%       7.854\n",
      "30%       8.050\n",
      "40%      10.500\n",
      "50%      14.454\n",
      "60%      21.679\n",
      "70%      27.000\n",
      "80%      39.688\n",
      "90%      77.958\n",
      "95%     112.079\n",
      "99%     249.006\n",
      "max     512.329\n",
      "Name: Fare, dtype: float64\n",
      "-------------\n",
      "count         204\n",
      "unique        147\n",
      "top       B96 B98\n",
      "freq            4\n",
      "Name: Cabin, dtype: object\n",
      "-------------\n",
      "count     889\n",
      "unique      3\n",
      "top         S\n",
      "freq      644\n",
      "Name: Embarked, dtype: object\n",
      "-------------\n"
     ]
    }
   ],
   "source": [
    "for i in df.columns:\n",
    "   \n",
    "    num_summary(df,i, plot=False)\n",
    "    \n",
    "    print(\"-------------\")\n"
   ]
  },
  {
   "cell_type": "markdown",
   "id": "f456eeac",
   "metadata": {},
   "source": [
    "yukarıda for döngüsü ile tüm numerik değişkenler için analiz yaptırdım"
   ]
  },
  {
   "cell_type": "code",
   "execution_count": 16,
   "id": "ee95f6e1",
   "metadata": {},
   "outputs": [
    {
     "name": "stdout",
     "output_type": "stream",
     "text": [
      "count   714.000\n",
      "mean     29.699\n",
      "std      14.526\n",
      "min       0.420\n",
      "5%        4.000\n",
      "10%      14.000\n",
      "20%      19.000\n",
      "30%      22.000\n",
      "40%      25.000\n",
      "50%      28.000\n",
      "60%      31.800\n",
      "70%      36.000\n",
      "80%      41.000\n",
      "90%      50.000\n",
      "95%      56.000\n",
      "99%      65.870\n",
      "max      80.000\n",
      "Name: Age, dtype: float64\n"
     ]
    }
   ],
   "source": [
    "num_summary(df, \"Age\", plot=False)"
   ]
  },
  {
   "cell_type": "code",
   "execution_count": 17,
   "id": "294d144f",
   "metadata": {},
   "outputs": [
    {
     "name": "stdout",
     "output_type": "stream",
     "text": [
      "count   891.000\n",
      "mean      0.523\n",
      "std       1.103\n",
      "min       0.000\n",
      "5%        0.000\n",
      "10%       0.000\n",
      "20%       0.000\n",
      "30%       0.000\n",
      "40%       0.000\n",
      "50%       0.000\n",
      "60%       0.000\n",
      "70%       1.000\n",
      "80%       1.000\n",
      "90%       1.000\n",
      "95%       3.000\n",
      "99%       5.000\n",
      "max       8.000\n",
      "Name: SibSp, dtype: float64\n"
     ]
    }
   ],
   "source": [
    "num_summary(df, \"SibSp\", plot=False)"
   ]
  },
  {
   "cell_type": "code",
   "execution_count": 18,
   "id": "355dac01",
   "metadata": {},
   "outputs": [
    {
     "name": "stdout",
     "output_type": "stream",
     "text": [
      "count   891.000\n",
      "mean      0.382\n",
      "std       0.806\n",
      "min       0.000\n",
      "5%        0.000\n",
      "10%       0.000\n",
      "20%       0.000\n",
      "30%       0.000\n",
      "40%       0.000\n",
      "50%       0.000\n",
      "60%       0.000\n",
      "70%       0.000\n",
      "80%       1.000\n",
      "90%       2.000\n",
      "95%       2.000\n",
      "99%       4.000\n",
      "max       6.000\n",
      "Name: Parch, dtype: float64\n"
     ]
    }
   ],
   "source": [
    "num_summary(df, \"Parch\", plot=False)"
   ]
  },
  {
   "cell_type": "code",
   "execution_count": 19,
   "id": "3e5eac77",
   "metadata": {},
   "outputs": [
    {
     "name": "stdout",
     "output_type": "stream",
     "text": [
      "count   891.000\n",
      "mean     32.204\n",
      "std      49.693\n",
      "min       0.000\n",
      "5%        7.225\n",
      "10%       7.550\n",
      "20%       7.854\n",
      "30%       8.050\n",
      "40%      10.500\n",
      "50%      14.454\n",
      "60%      21.679\n",
      "70%      27.000\n",
      "80%      39.688\n",
      "90%      77.958\n",
      "95%     112.079\n",
      "99%     249.006\n",
      "max     512.329\n",
      "Name: Fare, dtype: float64\n"
     ]
    }
   ],
   "source": [
    "num_summary(df, \"Fare\", plot=False)"
   ]
  },
  {
   "cell_type": "code",
   "execution_count": 20,
   "id": "34d7819c",
   "metadata": {},
   "outputs": [
    {
     "name": "stdout",
     "output_type": "stream",
     "text": [
      "        Survived\n",
      "Age             \n",
      "0.420      1.000\n",
      "0.670      1.000\n",
      "0.750      1.000\n",
      "0.830      1.000\n",
      "0.920      1.000\n",
      "...          ...\n",
      "70.000     0.000\n",
      "70.500     0.000\n",
      "71.000     0.000\n",
      "74.000     0.000\n",
      "80.000     1.000\n",
      "\n",
      "[88 rows x 1 columns]\n",
      "\n",
      "\n"
     ]
    }
   ],
   "source": [
    "target_summary_with_num(df,\"Age\", \"Survived\")\n"
   ]
  },
  {
   "cell_type": "markdown",
   "id": "50bf12a7",
   "metadata": {},
   "source": [
    "Hedef değişkenim ile categorik değişken arasındaki ilişkiyi görmek için  target_summary_with_num fonksiyonunu kullandım "
   ]
  },
  {
   "cell_type": "code",
   "execution_count": 21,
   "id": "4afb6a8b",
   "metadata": {},
   "outputs": [
    {
     "name": "stdout",
     "output_type": "stream",
     "text": [
      "        TARGET_MEAN\n",
      "Pclass             \n",
      "1             0.630\n",
      "2             0.473\n",
      "3             0.242\n",
      "\n",
      "\n"
     ]
    }
   ],
   "source": [
    "target_summary_with_cat(df, \"Survived\", \"Pclass\")"
   ]
  },
  {
   "cell_type": "code",
   "execution_count": 22,
   "id": "9a759c85",
   "metadata": {},
   "outputs": [
    {
     "name": "stdout",
     "output_type": "stream",
     "text": [
      "        TARGET_MEAN\n",
      "Age                \n",
      "0.420         1.000\n",
      "0.670         1.000\n",
      "0.750         1.000\n",
      "0.830         1.000\n",
      "0.920         1.000\n",
      "...             ...\n",
      "70.000        0.000\n",
      "70.500        0.000\n",
      "71.000        0.000\n",
      "74.000        0.000\n",
      "80.000        1.000\n",
      "\n",
      "[88 rows x 1 columns]\n",
      "\n",
      "\n"
     ]
    }
   ],
   "source": [
    "target_summary_with_cat(df, \"Survived\", \"Age\")"
   ]
  },
  {
   "cell_type": "code",
   "execution_count": 23,
   "id": "a1abd006",
   "metadata": {},
   "outputs": [
    {
     "name": "stdout",
     "output_type": "stream",
     "text": [
      "        TARGET_MEAN\n",
      "Sex                \n",
      "female        0.742\n",
      "male          0.189\n",
      "\n",
      "\n"
     ]
    }
   ],
   "source": [
    "target_summary_with_cat(df, \"Survived\", \"Sex\")"
   ]
  },
  {
   "cell_type": "code",
   "execution_count": 24,
   "id": "768660c2",
   "metadata": {},
   "outputs": [
    {
     "name": "stdout",
     "output_type": "stream",
     "text": [
      "          TARGET_MEAN\n",
      "Embarked             \n",
      "C               0.554\n",
      "Q               0.390\n",
      "S               0.337\n",
      "\n",
      "\n"
     ]
    }
   ],
   "source": [
    "target_summary_with_cat(df, \"Survived\", \"Embarked\")"
   ]
  },
  {
   "cell_type": "code",
   "execution_count": 25,
   "id": "fb5f958d",
   "metadata": {},
   "outputs": [
    {
     "name": "stdout",
     "output_type": "stream",
     "text": [
      "          SibSp\n",
      "Survived       \n",
      "0         0.554\n",
      "1         0.474\n",
      "\n",
      "\n"
     ]
    }
   ],
   "source": [
    "target_summary_with_num(df,\"Survived\", \"SibSp\")"
   ]
  },
  {
   "cell_type": "code",
   "execution_count": 26,
   "id": "bfb719f3",
   "metadata": {},
   "outputs": [
    {
     "name": "stdout",
     "output_type": "stream",
     "text": [
      "          Parch\n",
      "Survived       \n",
      "0         0.330\n",
      "1         0.465\n",
      "\n",
      "\n"
     ]
    }
   ],
   "source": [
    "target_summary_with_num(df,\"Survived\", \"Parch\")"
   ]
  },
  {
   "cell_type": "code",
   "execution_count": 27,
   "id": "3ca6bcba",
   "metadata": {},
   "outputs": [
    {
     "name": "stdout",
     "output_type": "stream",
     "text": [
      "          Pclass\n",
      "Survived        \n",
      "0          2.532\n",
      "1          1.950\n",
      "\n",
      "\n"
     ]
    }
   ],
   "source": [
    "target_summary_with_num(df,\"Survived\", \"Pclass\")"
   ]
  },
  {
   "cell_type": "code",
   "execution_count": 28,
   "id": "b7f05379",
   "metadata": {},
   "outputs": [
    {
     "name": "stdout",
     "output_type": "stream",
     "text": [
      "           Fare\n",
      "Survived       \n",
      "0        22.118\n",
      "1        48.395\n",
      "\n",
      "\n"
     ]
    }
   ],
   "source": [
    "target_summary_with_num(df,\"Survived\", \"Fare\")"
   ]
  },
  {
   "cell_type": "code",
   "execution_count": 29,
   "id": "08fdcf5c",
   "metadata": {},
   "outputs": [
    {
     "data": {
      "image/png": "[encoded data removed]",
      "text/plain": [
       "<Figure size 1500x1000 with 2 Axes>"
      ]
     },
     "metadata": {},
     "output_type": "display_data"
    }
   ],
   "source": [
    "plt.figure(figsize = (15,10))\n",
    "\n",
    "sns.heatmap(df.corr(method='pearson').drop(\n",
    "  [], axis=1).drop([], axis=0),\n",
    "            annot = True);\n",
    "  \n",
    "plt.show()\n",
    "\n",
    "\n",
    "#en çok ilişki SibSp ile Parch arasındadır.\n",
    "# en az ilişki fare ile Pclass arasındadır."
   ]
  },
  {
   "cell_type": "code",
   "execution_count": 30,
   "id": "ef60f736",
   "metadata": {},
   "outputs": [],
   "source": [
    "kolonlar=['PassengerId', 'Survived', 'Pclass', 'Name', 'Sex', 'Age', 'SibSp', 'Parch', 'Ticket', 'Fare', 'Cabin', 'Embarked']"
   ]
  },
  {
   "cell_type": "code",
   "execution_count": 31,
   "id": "da41bf94",
   "metadata": {},
   "outputs": [
    {
     "data": {
      "image/png": "[encoded data removed]",
      "text/plain": [
       "<Figure size 900x300 with 1 Axes>"
      ]
     },
     "metadata": {},
     "output_type": "display_data"
    },
    {
     "name": "stdout",
     "output_type": "stream",
     "text": [
      "PassengerId: \n",
      " 1      1\n",
      "599    1\n",
      "588    1\n",
      "589    1\n",
      "590    1\n",
      "      ..\n",
      "301    1\n",
      "302    1\n",
      "303    1\n",
      "304    1\n",
      "891    1\n",
      "Name: PassengerId, Length: 891, dtype: int64\n"
     ]
    },
    {
     "data": {
      "image/png": "[encoded data removed]",
      "text/plain": [
       "<Figure size 900x300 with 1 Axes>"
      ]
     },
     "metadata": {},
     "output_type": "display_data"
    },
    {
     "name": "stdout",
     "output_type": "stream",
     "text": [
      "Survived: \n",
      " 0    549\n",
      "1    342\n",
      "Name: Survived, dtype: int64\n"
     ]
    },
    {
     "data": {
      "image/png": "[encoded data removed]",
      "text/plain": [
       "<Figure size 900x300 with 1 Axes>"
      ]
     },
     "metadata": {},
     "output_type": "display_data"
    },
    {
     "name": "stdout",
     "output_type": "stream",
     "text": [
      "Pclass: \n",
      " 3    491\n",
      "1    216\n",
      "2    184\n",
      "Name: Pclass, dtype: int64\n"
     ]
    },
    {
     "data": {
      "image/png": "[encoded data removed]",
      "text/plain": [
       "<Figure size 900x300 with 1 Axes>"
      ]
     },
     "metadata": {},
     "output_type": "display_data"
    },
    {
     "name": "stdout",
     "output_type": "stream",
     "text": [
      "Name: \n",
      " Braund, Mr. Owen Harris                     1\n",
      "Boulos, Mr. Hanna                           1\n",
      "Frolicher-Stehli, Mr. Maxmillian            1\n",
      "Gilinski, Mr. Eliezer                       1\n",
      "Murdlin, Mr. Joseph                         1\n",
      "                                           ..\n",
      "Kelly, Miss. Anna Katherine \"Annie Kate\"    1\n",
      "McCoy, Mr. Bernard                          1\n",
      "Johnson, Mr. William Cahoone Jr             1\n",
      "Keane, Miss. Nora A                         1\n",
      "Dooley, Mr. Patrick                         1\n",
      "Name: Name, Length: 891, dtype: int64\n"
     ]
    },
    {
     "data": {
      "image/png": "[encoded data removed]",
      "text/plain": [
       "<Figure size 900x300 with 1 Axes>"
      ]
     },
     "metadata": {},
     "output_type": "display_data"
    },
    {
     "name": "stdout",
     "output_type": "stream",
     "text": [
      "Sex: \n",
      " male      577\n",
      "female    314\n",
      "Name: Sex, dtype: int64\n"
     ]
    },
    {
     "data": {
      "image/png": "[encoded data removed]",
      "text/plain": [
       "<Figure size 900x300 with 1 Axes>"
      ]
     },
     "metadata": {},
     "output_type": "display_data"
    },
    {
     "name": "stdout",
     "output_type": "stream",
     "text": [
      "Age: \n",
      " 24.000    30\n",
      "22.000    27\n",
      "18.000    26\n",
      "19.000    25\n",
      "28.000    25\n",
      "          ..\n",
      "36.500     1\n",
      "55.500     1\n",
      "0.920      1\n",
      "23.500     1\n",
      "74.000     1\n",
      "Name: Age, Length: 88, dtype: int64\n"
     ]
    },
    {
     "data": {
      "image/png": "[encoded data removed]",
      "text/plain": [
       "<Figure size 900x300 with 1 Axes>"
      ]
     },
     "metadata": {},
     "output_type": "display_data"
    },
    {
     "name": "stdout",
     "output_type": "stream",
     "text": [
      "SibSp: \n",
      " 0    608\n",
      "1    209\n",
      "2     28\n",
      "4     18\n",
      "3     16\n",
      "8      7\n",
      "5      5\n",
      "Name: SibSp, dtype: int64\n"
     ]
    },
    {
     "data": {
      "image/png": "[encoded data removed]",
      "text/plain": [
       "<Figure size 900x300 with 1 Axes>"
      ]
     },
     "metadata": {},
     "output_type": "display_data"
    },
    {
     "name": "stdout",
     "output_type": "stream",
     "text": [
      "Parch: \n",
      " 0    678\n",
      "1    118\n",
      "2     80\n",
      "5      5\n",
      "3      5\n",
      "4      4\n",
      "6      1\n",
      "Name: Parch, dtype: int64\n"
     ]
    },
    {
     "data": {
      "image/png": "[encoded data removed]",
      "text/plain": [
       "<Figure size 900x300 with 1 Axes>"
      ]
     },
     "metadata": {},
     "output_type": "display_data"
    },
    {
     "name": "stdout",
     "output_type": "stream",
     "text": [
      "Ticket: \n",
      " 347082      7\n",
      "CA. 2343    7\n",
      "1601        7\n",
      "3101295     6\n",
      "CA 2144     6\n",
      "           ..\n",
      "9234        1\n",
      "19988       1\n",
      "2693        1\n",
      "PC 17612    1\n",
      "370376      1\n",
      "Name: Ticket, Length: 681, dtype: int64\n"
     ]
    },
    {
     "data": {
      "image/png": "[encoded data removed]",
      "text/plain": [
       "<Figure size 900x300 with 1 Axes>"
      ]
     },
     "metadata": {},
     "output_type": "display_data"
    },
    {
     "name": "stdout",
     "output_type": "stream",
     "text": [
      "Fare: \n",
      " 8.050     43\n",
      "13.000    42\n",
      "7.896     38\n",
      "7.750     34\n",
      "26.000    31\n",
      "          ..\n",
      "35.000     1\n",
      "28.500     1\n",
      "6.237      1\n",
      "14.000     1\n",
      "10.517     1\n",
      "Name: Fare, Length: 248, dtype: int64\n"
     ]
    },
    {
     "data": {
      "image/png": "[encoded data removed]",
      "text/plain": [
       "<Figure size 900x300 with 1 Axes>"
      ]
     },
     "metadata": {},
     "output_type": "display_data"
    },
    {
     "name": "stdout",
     "output_type": "stream",
     "text": [
      "Cabin: \n",
      " B96 B98        4\n",
      "G6             4\n",
      "C23 C25 C27    4\n",
      "C22 C26        3\n",
      "F33            3\n",
      "              ..\n",
      "E34            1\n",
      "C7             1\n",
      "C54            1\n",
      "E36            1\n",
      "C148           1\n",
      "Name: Cabin, Length: 147, dtype: int64\n"
     ]
    },
    {
     "data": {
      "image/png": "[encoded data removed]",
      "text/plain": [
       "<Figure size 900x300 with 1 Axes>"
      ]
     },
     "metadata": {},
     "output_type": "display_data"
    },
    {
     "name": "stdout",
     "output_type": "stream",
     "text": [
      "Embarked: \n",
      " S    644\n",
      "C    168\n",
      "Q     77\n",
      "Name: Embarked, dtype: int64\n"
     ]
    }
   ],
   "source": [
    "for i in kolonlar:\n",
    "    bar_plot(i)\n",
    "    "
   ]
  },
  {
   "cell_type": "markdown",
   "id": "6fbb07ac",
   "metadata": {},
   "source": [
    "yukarıda for döngüsü ile kolonlarımın bar plotunu çizdirdim"
   ]
  },
  {
   "cell_type": "code",
   "execution_count": 32,
   "id": "a8637df3",
   "metadata": {},
   "outputs": [
    {
     "data": {
      "text/plain": [
       "<seaborn.axisgrid.FacetGrid at 0x276ea8a7250>"
      ]
     },
     "execution_count": 32,
     "metadata": {},
     "output_type": "execute_result"
    },
    {
     "data": {
      "image/png": "[encoded data removed]",
      "text/plain": [
       "<Figure size 572.111x500 with 1 Axes>"
      ]
     },
     "metadata": {},
     "output_type": "display_data"
    }
   ],
   "source": [
    "sns.catplot( data = df,x =\"Sex\", hue =\"Survived\", kind =\"count\")"
   ]
  },
  {
   "cell_type": "markdown",
   "id": "c04d9e43",
   "metadata": {},
   "source": [
    "bu fonksiyon sayesinde seaborn kütüphanesinde sex değişkeni için bar plot çizdirdim"
   ]
  },
  {
   "cell_type": "code",
   "execution_count": 33,
   "id": "d8851e8a",
   "metadata": {},
   "outputs": [
    {
     "data": {
      "image/png": "[encoded data removed]",
      "text/plain": [
       "<Figure size 640x480 with 1 Axes>"
      ]
     },
     "metadata": {},
     "output_type": "display_data"
    },
    {
     "data": {
      "image/png": "[encoded data removed]",
      "text/plain": [
       "<Figure size 640x480 with 1 Axes>"
      ]
     },
     "metadata": {},
     "output_type": "display_data"
    },
    {
     "data": {
      "image/png": "[encoded data removed]",
      "text/plain": [
       "<Figure size 640x480 with 1 Axes>"
      ]
     },
     "metadata": {},
     "output_type": "display_data"
    }
   ],
   "source": [
    "histogrif=[\"Fare\", \"Age\",\"SibSp\"]\n",
    "for i in histogrif:\n",
    "    plotHistogram(i)"
   ]
  },
  {
   "cell_type": "markdown",
   "id": "bec2e682",
   "metadata": {},
   "source": [
    "Fare ,Age,SibSp değişkenleri için histogram grafiği çizdirdim."
   ]
  },
  {
   "cell_type": "code",
   "execution_count": 34,
   "id": "f360cd3b",
   "metadata": {},
   "outputs": [
    {
     "data": {
      "image/png": "[encoded data removed]",
      "text/plain": [
       "<Figure size 598x500 with 1 Axes>"
      ]
     },
     "metadata": {},
     "output_type": "display_data"
    }
   ],
   "source": [
    "#Scatter Plot Grafiğini çizdiriyoruz.\n",
    "sns.catplot(x=\"Embarked\", y=\"Age\", data =df, hue = \"Sex\");\n"
   ]
  },
  {
   "cell_type": "code",
   "execution_count": 35,
   "id": "a8c27acb",
   "metadata": {},
   "outputs": [
    {
     "data": {
      "image/png": "[encoded data removed]",
      "text/plain": [
       "<Figure size 598x500 with 1 Axes>"
      ]
     },
     "metadata": {},
     "output_type": "display_data"
    }
   ],
   "source": [
    "sns.catplot(x=\"Survived\", y=\"Age\", data =df, hue = \"Sex\");"
   ]
  },
  {
   "cell_type": "code",
   "execution_count": 36,
   "id": "eefb7d4c",
   "metadata": {},
   "outputs": [
    {
     "data": {
      "image/png": "[encoded data removed]",
      "text/plain": [
       "<Figure size 822.111x750 with 12 Axes>"
      ]
     },
     "metadata": {},
     "output_type": "display_data"
    }
   ],
   "source": [
    "sns.pairplot(data=df[[\"Fare\", \"Survived\", \"Age\", \"Pclass\"]], hue = \"Survived\", dropna = True);\n",
    "#[\"Fare\", \"Survived\", \"Age\", \"Pclass\"] değişkenlerinin  arasındaki bağlantıyı Survived değişkenine göre analiz ettim "
   ]
  },
  {
   "cell_type": "code",
   "execution_count": 37,
   "id": "c645c740",
   "metadata": {},
   "outputs": [
    {
     "data": {
      "image/png": "[encoded data removed]",
      "text/plain": [
       "<Figure size 640x480 with 1 Axes>"
      ]
     },
     "metadata": {},
     "output_type": "display_data"
    },
    {
     "data": {
      "text/plain": [
       "<Figure size 1000x1000 with 0 Axes>"
      ]
     },
     "metadata": {},
     "output_type": "display_data"
    }
   ],
   "source": [
    "graph(\"SibSp\",\"Age\",df)\n",
    "#Değişkenlerinin box plot grafiğini çizdirdim."
   ]
  },
  {
   "cell_type": "code",
   "execution_count": 38,
   "id": "14389453",
   "metadata": {},
   "outputs": [
    {
     "data": {
      "text/plain": [
       "<AxesSubplot:xlabel='Sex', ylabel='Age'>"
      ]
     },
     "execution_count": 38,
     "metadata": {},
     "output_type": "execute_result"
    },
    {
     "data": {
      "image/png": "[encoded data removed]",
      "text/plain": [
       "<Figure size 640x480 with 1 Axes>"
      ]
     },
     "metadata": {},
     "output_type": "display_data"
    }
   ],
   "source": [
    "sbn.set_style('whitegrid')\n",
    "sbn.violinplot(x = 'Sex', y = 'Age', data =df)\n",
    "\n",
    "#Değişkenleri violin plot grafiğine göre çizdirdim."
   ]
  },
  {
   "cell_type": "markdown",
   "id": "ae2c1bf0",
   "metadata": {},
   "source": [
    "OUTLİER THRESHOLDLARIN BELİRLENMESİ VE BUNA GÖRE AYKIRI DEĞER OLUP OLMADIĞININ KONTROLÜ "
   ]
  },
  {
   "cell_type": "code",
   "execution_count": 39,
   "id": "ef60beed",
   "metadata": {},
   "outputs": [
    {
     "data": {
      "text/plain": [
       "(-1.5, 2.5)"
      ]
     },
     "execution_count": 39,
     "metadata": {},
     "output_type": "execute_result"
    }
   ],
   "source": [
    "outlier_thresholds(df,\"Survived\" , q1=0.05, q3=0.95)"
   ]
  },
  {
   "cell_type": "code",
   "execution_count": 40,
   "id": "485bf815",
   "metadata": {},
   "outputs": [
    {
     "data": {
      "text/plain": [
       "False"
      ]
     },
     "execution_count": 40,
     "metadata": {},
     "output_type": "execute_result"
    }
   ],
   "source": [
    "check_outlier(df,\"Survived\" )"
   ]
  },
  {
   "cell_type": "code",
   "execution_count": 41,
   "id": "21b1a7f5",
   "metadata": {},
   "outputs": [
    {
     "data": {
      "text/plain": [
       "(-2.0, 6.0)"
      ]
     },
     "execution_count": 41,
     "metadata": {},
     "output_type": "execute_result"
    }
   ],
   "source": [
    "outlier_thresholds(df,\"Pclass\" , q1=0.05, q3=0.95)"
   ]
  },
  {
   "cell_type": "code",
   "execution_count": 42,
   "id": "6c716142",
   "metadata": {},
   "outputs": [
    {
     "data": {
      "text/plain": [
       "False"
      ]
     },
     "execution_count": 42,
     "metadata": {},
     "output_type": "execute_result"
    }
   ],
   "source": [
    "check_outlier(df,\"Pclass\" )"
   ]
  },
  {
   "cell_type": "code",
   "execution_count": 43,
   "id": "f2a6c98b",
   "metadata": {},
   "outputs": [
    {
     "data": {
      "text/plain": [
       "(-74.0, 134.0)"
      ]
     },
     "execution_count": 43,
     "metadata": {},
     "output_type": "execute_result"
    }
   ],
   "source": [
    "outlier_thresholds(df,\"Age\" , q1=0.05, q3=0.95)"
   ]
  },
  {
   "cell_type": "code",
   "execution_count": 44,
   "id": "b7ad59e6",
   "metadata": {},
   "outputs": [
    {
     "data": {
      "text/plain": [
       "False"
      ]
     },
     "execution_count": 44,
     "metadata": {},
     "output_type": "execute_result"
    }
   ],
   "source": [
    "check_outlier(df,\"Age\" )"
   ]
  },
  {
   "cell_type": "code",
   "execution_count": 45,
   "id": "28ac50f7",
   "metadata": {},
   "outputs": [
    {
     "data": {
      "text/plain": [
       "(-4.5, 7.5)"
      ]
     },
     "execution_count": 45,
     "metadata": {},
     "output_type": "execute_result"
    }
   ],
   "source": [
    "outlier_thresholds(df,\"SibSp\" , q1=0.05, q3=0.95)"
   ]
  },
  {
   "cell_type": "code",
   "execution_count": 46,
   "id": "8196c719",
   "metadata": {},
   "outputs": [
    {
     "data": {
      "text/plain": [
       "True"
      ]
     },
     "execution_count": 46,
     "metadata": {},
     "output_type": "execute_result"
    }
   ],
   "source": [
    "check_outlier(df,\"SibSp\" )"
   ]
  },
  {
   "cell_type": "code",
   "execution_count": 47,
   "id": "07a8482a",
   "metadata": {},
   "outputs": [
    {
     "data": {
      "text/plain": [
       "(-3.0, 5.0)"
      ]
     },
     "execution_count": 47,
     "metadata": {},
     "output_type": "execute_result"
    }
   ],
   "source": [
    "outlier_thresholds(df,\"Parch\" , q1=0.05, q3=0.95)"
   ]
  },
  {
   "cell_type": "code",
   "execution_count": 48,
   "id": "f7662fe9",
   "metadata": {},
   "outputs": [
    {
     "data": {
      "text/plain": [
       "True"
      ]
     },
     "execution_count": 48,
     "metadata": {},
     "output_type": "execute_result"
    }
   ],
   "source": [
    "check_outlier(df,\"Parch\" )"
   ]
  },
  {
   "cell_type": "code",
   "execution_count": 49,
   "id": "a2a56e02",
   "metadata": {},
   "outputs": [
    {
     "data": {
      "text/plain": [
       "(-150.056225, 269.360375)"
      ]
     },
     "execution_count": 49,
     "metadata": {},
     "output_type": "execute_result"
    }
   ],
   "source": [
    "outlier_thresholds(df,\"Fare\" , q1=0.05, q3=0.95)"
   ]
  },
  {
   "cell_type": "code",
   "execution_count": 50,
   "id": "9da771ab",
   "metadata": {},
   "outputs": [
    {
     "data": {
      "text/plain": [
       "True"
      ]
     },
     "execution_count": 50,
     "metadata": {},
     "output_type": "execute_result"
    }
   ],
   "source": [
    "check_outlier(df,\"Fare\" )"
   ]
  },
  {
   "cell_type": "markdown",
   "id": "64561658",
   "metadata": {},
   "source": [
    "outlier değerlere erişmek için  grab_outliers fonksiyonunu kullandım.\n"
   ]
  },
  {
   "cell_type": "code",
   "execution_count": 51,
   "id": "66263adc",
   "metadata": {},
   "outputs": [
    {
     "name": "stdout",
     "output_type": "stream",
     "text": [
      "     PassengerId  Survived  Pclass                                Name     Sex    Age  SibSp  Parch    Ticket    Fare        Cabin Embarked\n",
      "258          259         1       1                    Ward, Miss. Anna  female 35.000      0      0  PC 17755 512.329          NaN        C\n",
      "679          680         1       1  Cardeza, Mr. Thomas Drake Martinez    male 36.000      0      1  PC 17755 512.329  B51 B53 B55        C\n",
      "737          738         1       1              Lesurer, Mr. Gustave J    male 35.000      0      0  PC 17755 512.329         B101        C\n"
     ]
    }
   ],
   "source": [
    "grab_outliers(df, \"Fare\", index=False)"
   ]
  },
  {
   "cell_type": "code",
   "execution_count": 52,
   "id": "09469be4",
   "metadata": {},
   "outputs": [
    {
     "name": "stdout",
     "output_type": "stream",
     "text": [
      "     PassengerId  Survived  Pclass                                     Name     Sex    Age  SibSp  Parch   Ticket   Fare Cabin Embarked\n",
      "678          679         0       3  Goodwin, Mrs. Frederick (Augusta Tyler)  female 43.000      1      6  CA 2144 46.900   NaN        S\n"
     ]
    }
   ],
   "source": [
    "grab_outliers(df, \"Parch\", index=False)"
   ]
  },
  {
   "cell_type": "code",
   "execution_count": 53,
   "id": "e806331c",
   "metadata": {},
   "outputs": [
    {
     "name": "stdout",
     "output_type": "stream",
     "text": [
      "     PassengerId  Survived  Pclass                               Name     Sex  Age  SibSp  Parch    Ticket   Fare Cabin Embarked\n",
      "159          160         0       3         Sage, Master. Thomas Henry    male  NaN      8      2  CA. 2343 69.550   NaN        S\n",
      "180          181         0       3       Sage, Miss. Constance Gladys  female  NaN      8      2  CA. 2343 69.550   NaN        S\n",
      "201          202         0       3                Sage, Mr. Frederick    male  NaN      8      2  CA. 2343 69.550   NaN        S\n",
      "324          325         0       3           Sage, Mr. George John Jr    male  NaN      8      2  CA. 2343 69.550   NaN        S\n",
      "792          793         0       3            Sage, Miss. Stella Anna  female  NaN      8      2  CA. 2343 69.550   NaN        S\n",
      "846          847         0       3           Sage, Mr. Douglas Bullen    male  NaN      8      2  CA. 2343 69.550   NaN        S\n",
      "863          864         0       3  Sage, Miss. Dorothy Edith \"Dolly\"  female  NaN      8      2  CA. 2343 69.550   NaN        S\n"
     ]
    }
   ],
   "source": [
    "grab_outliers(df, \"SibSp\", index=False)"
   ]
  },
  {
   "cell_type": "code",
   "execution_count": 54,
   "id": "765519f4",
   "metadata": {},
   "outputs": [],
   "source": [
    "df.drop(\"Name\",axis=1, inplace=True)\n",
    "# Name kolonunu etkisiz olduğu için sildim."
   ]
  },
  {
   "cell_type": "code",
   "execution_count": 55,
   "id": "6822c89c",
   "metadata": {},
   "outputs": [],
   "source": [
    "replace_with_thresholds(df, \"Parch\", q1=0.01, q3=0.99)"
   ]
  },
  {
   "cell_type": "code",
   "execution_count": 56,
   "id": "eac51463",
   "metadata": {},
   "outputs": [],
   "source": [
    "replace_with_thresholds(df, \"SibSp\", q1=0.01, q3=0.99)"
   ]
  },
  {
   "cell_type": "code",
   "execution_count": 57,
   "id": "141b6dea",
   "metadata": {},
   "outputs": [],
   "source": [
    "replace_with_thresholds(df, \"Fare\", q1=0.01, q3=0.99)"
   ]
  },
  {
   "cell_type": "code",
   "execution_count": 58,
   "id": "44c8b758",
   "metadata": {},
   "outputs": [
    {
     "data": {
      "text/plain": [
       "(891, 11)"
      ]
     },
     "execution_count": 58,
     "metadata": {},
     "output_type": "execute_result"
    }
   ],
   "source": [
    "df.shape"
   ]
  },
  {
   "cell_type": "code",
   "execution_count": 59,
   "id": "eb3bf039",
   "metadata": {},
   "outputs": [
    {
     "data": {
      "text/html": [
       "<div>\n",
       "<style scoped>\n",
       "    .dataframe tbody tr th:only-of-type {\n",
       "        vertical-align: middle;\n",
       "    }\n",
       "\n",
       "    .dataframe tbody tr th {\n",
       "        vertical-align: top;\n",
       "    }\n",
       "\n",
       "    .dataframe thead th {\n",
       "        text-align: right;\n",
       "    }\n",
       "</style>\n",
       "<table border=\"1\" class=\"dataframe\">\n",
       "  <thead>\n",
       "    <tr style=\"text-align: right;\">\n",
       "      <th></th>\n",
       "      <th>PassengerId</th>\n",
       "      <th>Survived</th>\n",
       "      <th>Pclass</th>\n",
       "      <th>Sex</th>\n",
       "      <th>Age</th>\n",
       "      <th>SibSp</th>\n",
       "      <th>Parch</th>\n",
       "      <th>Ticket</th>\n",
       "      <th>Fare</th>\n",
       "      <th>Cabin</th>\n",
       "      <th>Embarked</th>\n",
       "    </tr>\n",
       "  </thead>\n",
       "  <tbody>\n",
       "    <tr>\n",
       "      <th>61</th>\n",
       "      <td>62</td>\n",
       "      <td>1</td>\n",
       "      <td>1</td>\n",
       "      <td>female</td>\n",
       "      <td>38.000</td>\n",
       "      <td>0.000</td>\n",
       "      <td>0</td>\n",
       "      <td>113572</td>\n",
       "      <td>80.000</td>\n",
       "      <td>B28</td>\n",
       "      <td>NaN</td>\n",
       "    </tr>\n",
       "    <tr>\n",
       "      <th>829</th>\n",
       "      <td>830</td>\n",
       "      <td>1</td>\n",
       "      <td>1</td>\n",
       "      <td>female</td>\n",
       "      <td>62.000</td>\n",
       "      <td>0.000</td>\n",
       "      <td>0</td>\n",
       "      <td>113572</td>\n",
       "      <td>80.000</td>\n",
       "      <td>B28</td>\n",
       "      <td>NaN</td>\n",
       "    </tr>\n",
       "  </tbody>\n",
       "</table>\n",
       "</div>"
      ],
      "text/plain": [
       "     PassengerId  Survived  Pclass     Sex    Age  SibSp  Parch  Ticket   Fare Cabin Embarked\n",
       "61            62         1       1  female 38.000  0.000      0  113572 80.000   B28      NaN\n",
       "829          830         1       1  female 62.000  0.000      0  113572 80.000   B28      NaN"
      ]
     },
     "execution_count": 59,
     "metadata": {},
     "output_type": "execute_result"
    }
   ],
   "source": [
    "df[df[\"Embarked\"].isnull()]"
   ]
  },
  {
   "cell_type": "code",
   "execution_count": 60,
   "id": "600df064",
   "metadata": {},
   "outputs": [],
   "source": [
    "df[\"Embarked\"] = df[\"Embarked\"].fillna('C')\n",
    "#BU YÖNTEMLE NAN değerleri ortalama değer olduğu için  c sınıfına atadım"
   ]
  },
  {
   "cell_type": "code",
   "execution_count": 61,
   "id": "b206a5ae",
   "metadata": {},
   "outputs": [
    {
     "data": {
      "text/html": [
       "<div>\n",
       "<style scoped>\n",
       "    .dataframe tbody tr th:only-of-type {\n",
       "        vertical-align: middle;\n",
       "    }\n",
       "\n",
       "    .dataframe tbody tr th {\n",
       "        vertical-align: top;\n",
       "    }\n",
       "\n",
       "    .dataframe thead th {\n",
       "        text-align: right;\n",
       "    }\n",
       "</style>\n",
       "<table border=\"1\" class=\"dataframe\">\n",
       "  <thead>\n",
       "    <tr style=\"text-align: right;\">\n",
       "      <th></th>\n",
       "      <th>PassengerId</th>\n",
       "      <th>Survived</th>\n",
       "      <th>Pclass</th>\n",
       "      <th>Sex</th>\n",
       "      <th>Age</th>\n",
       "      <th>SibSp</th>\n",
       "      <th>Parch</th>\n",
       "      <th>Ticket</th>\n",
       "      <th>Fare</th>\n",
       "      <th>Cabin</th>\n",
       "      <th>Embarked</th>\n",
       "    </tr>\n",
       "  </thead>\n",
       "  <tbody>\n",
       "  </tbody>\n",
       "</table>\n",
       "</div>"
      ],
      "text/plain": [
       "Empty DataFrame\n",
       "Columns: [PassengerId, Survived, Pclass, Sex, Age, SibSp, Parch, Ticket, Fare, Cabin, Embarked]\n",
       "Index: []"
      ]
     },
     "execution_count": 61,
     "metadata": {},
     "output_type": "execute_result"
    }
   ],
   "source": [
    "df[df[\"Embarked\"].isnull()]"
   ]
  },
  {
   "cell_type": "code",
   "execution_count": 62,
   "id": "3847c383",
   "metadata": {},
   "outputs": [
    {
     "data": {
      "text/plain": [
       "PassengerId      0\n",
       "Survived         0\n",
       "Pclass           0\n",
       "Sex              0\n",
       "Age            177\n",
       "SibSp            0\n",
       "Parch            0\n",
       "Ticket           0\n",
       "Fare             0\n",
       "Cabin          687\n",
       "Embarked         0\n",
       "dtype: int64"
      ]
     },
     "execution_count": 62,
     "metadata": {},
     "output_type": "execute_result"
    }
   ],
   "source": [
    "df.isnull().sum()\n",
    "#Embarked değişkenindeki NaN değerler gitmiş mi diye genel bi kontrol için hepsine baktım."
   ]
  },
  {
   "cell_type": "code",
   "execution_count": 63,
   "id": "c334631f",
   "metadata": {},
   "outputs": [
    {
     "data": {
      "text/html": [
       "<div>\n",
       "<style scoped>\n",
       "    .dataframe tbody tr th:only-of-type {\n",
       "        vertical-align: middle;\n",
       "    }\n",
       "\n",
       "    .dataframe tbody tr th {\n",
       "        vertical-align: top;\n",
       "    }\n",
       "\n",
       "    .dataframe thead th {\n",
       "        text-align: right;\n",
       "    }\n",
       "</style>\n",
       "<table border=\"1\" class=\"dataframe\">\n",
       "  <thead>\n",
       "    <tr style=\"text-align: right;\">\n",
       "      <th></th>\n",
       "      <th>PassengerId</th>\n",
       "      <th>Survived</th>\n",
       "      <th>Pclass</th>\n",
       "      <th>Sex</th>\n",
       "      <th>Age</th>\n",
       "      <th>SibSp</th>\n",
       "      <th>Parch</th>\n",
       "      <th>Ticket</th>\n",
       "      <th>Fare</th>\n",
       "      <th>Cabin</th>\n",
       "      <th>Embarked</th>\n",
       "    </tr>\n",
       "  </thead>\n",
       "  <tbody>\n",
       "    <tr>\n",
       "      <th>5</th>\n",
       "      <td>6</td>\n",
       "      <td>0</td>\n",
       "      <td>3</td>\n",
       "      <td>male</td>\n",
       "      <td>NaN</td>\n",
       "      <td>0.000</td>\n",
       "      <td>0</td>\n",
       "      <td>330877</td>\n",
       "      <td>8.458</td>\n",
       "      <td>NaN</td>\n",
       "      <td>Q</td>\n",
       "    </tr>\n",
       "    <tr>\n",
       "      <th>17</th>\n",
       "      <td>18</td>\n",
       "      <td>1</td>\n",
       "      <td>2</td>\n",
       "      <td>male</td>\n",
       "      <td>NaN</td>\n",
       "      <td>0.000</td>\n",
       "      <td>0</td>\n",
       "      <td>244373</td>\n",
       "      <td>13.000</td>\n",
       "      <td>NaN</td>\n",
       "      <td>S</td>\n",
       "    </tr>\n",
       "    <tr>\n",
       "      <th>19</th>\n",
       "      <td>20</td>\n",
       "      <td>1</td>\n",
       "      <td>3</td>\n",
       "      <td>female</td>\n",
       "      <td>NaN</td>\n",
       "      <td>0.000</td>\n",
       "      <td>0</td>\n",
       "      <td>2649</td>\n",
       "      <td>7.225</td>\n",
       "      <td>NaN</td>\n",
       "      <td>C</td>\n",
       "    </tr>\n",
       "    <tr>\n",
       "      <th>26</th>\n",
       "      <td>27</td>\n",
       "      <td>0</td>\n",
       "      <td>3</td>\n",
       "      <td>male</td>\n",
       "      <td>NaN</td>\n",
       "      <td>0.000</td>\n",
       "      <td>0</td>\n",
       "      <td>2631</td>\n",
       "      <td>7.225</td>\n",
       "      <td>NaN</td>\n",
       "      <td>C</td>\n",
       "    </tr>\n",
       "    <tr>\n",
       "      <th>28</th>\n",
       "      <td>29</td>\n",
       "      <td>1</td>\n",
       "      <td>3</td>\n",
       "      <td>female</td>\n",
       "      <td>NaN</td>\n",
       "      <td>0.000</td>\n",
       "      <td>0</td>\n",
       "      <td>330959</td>\n",
       "      <td>7.879</td>\n",
       "      <td>NaN</td>\n",
       "      <td>Q</td>\n",
       "    </tr>\n",
       "    <tr>\n",
       "      <th>...</th>\n",
       "      <td>...</td>\n",
       "      <td>...</td>\n",
       "      <td>...</td>\n",
       "      <td>...</td>\n",
       "      <td>...</td>\n",
       "      <td>...</td>\n",
       "      <td>...</td>\n",
       "      <td>...</td>\n",
       "      <td>...</td>\n",
       "      <td>...</td>\n",
       "      <td>...</td>\n",
       "    </tr>\n",
       "    <tr>\n",
       "      <th>859</th>\n",
       "      <td>860</td>\n",
       "      <td>0</td>\n",
       "      <td>3</td>\n",
       "      <td>male</td>\n",
       "      <td>NaN</td>\n",
       "      <td>0.000</td>\n",
       "      <td>0</td>\n",
       "      <td>2629</td>\n",
       "      <td>7.229</td>\n",
       "      <td>NaN</td>\n",
       "      <td>C</td>\n",
       "    </tr>\n",
       "    <tr>\n",
       "      <th>863</th>\n",
       "      <td>864</td>\n",
       "      <td>0</td>\n",
       "      <td>3</td>\n",
       "      <td>female</td>\n",
       "      <td>NaN</td>\n",
       "      <td>8.000</td>\n",
       "      <td>2</td>\n",
       "      <td>CA. 2343</td>\n",
       "      <td>69.550</td>\n",
       "      <td>NaN</td>\n",
       "      <td>S</td>\n",
       "    </tr>\n",
       "    <tr>\n",
       "      <th>868</th>\n",
       "      <td>869</td>\n",
       "      <td>0</td>\n",
       "      <td>3</td>\n",
       "      <td>male</td>\n",
       "      <td>NaN</td>\n",
       "      <td>0.000</td>\n",
       "      <td>0</td>\n",
       "      <td>345777</td>\n",
       "      <td>9.500</td>\n",
       "      <td>NaN</td>\n",
       "      <td>S</td>\n",
       "    </tr>\n",
       "    <tr>\n",
       "      <th>878</th>\n",
       "      <td>879</td>\n",
       "      <td>0</td>\n",
       "      <td>3</td>\n",
       "      <td>male</td>\n",
       "      <td>NaN</td>\n",
       "      <td>0.000</td>\n",
       "      <td>0</td>\n",
       "      <td>349217</td>\n",
       "      <td>7.896</td>\n",
       "      <td>NaN</td>\n",
       "      <td>S</td>\n",
       "    </tr>\n",
       "    <tr>\n",
       "      <th>888</th>\n",
       "      <td>889</td>\n",
       "      <td>0</td>\n",
       "      <td>3</td>\n",
       "      <td>female</td>\n",
       "      <td>NaN</td>\n",
       "      <td>1.000</td>\n",
       "      <td>2</td>\n",
       "      <td>W./C. 6607</td>\n",
       "      <td>23.450</td>\n",
       "      <td>NaN</td>\n",
       "      <td>S</td>\n",
       "    </tr>\n",
       "  </tbody>\n",
       "</table>\n",
       "<p>177 rows × 11 columns</p>\n",
       "</div>"
      ],
      "text/plain": [
       "     PassengerId  Survived  Pclass     Sex  Age  SibSp  Parch      Ticket   Fare Cabin Embarked\n",
       "5              6         0       3    male  NaN  0.000      0      330877  8.458   NaN        Q\n",
       "17            18         1       2    male  NaN  0.000      0      244373 13.000   NaN        S\n",
       "19            20         1       3  female  NaN  0.000      0        2649  7.225   NaN        C\n",
       "26            27         0       3    male  NaN  0.000      0        2631  7.225   NaN        C\n",
       "28            29         1       3  female  NaN  0.000      0      330959  7.879   NaN        Q\n",
       "..           ...       ...     ...     ...  ...    ...    ...         ...    ...   ...      ...\n",
       "859          860         0       3    male  NaN  0.000      0        2629  7.229   NaN        C\n",
       "863          864         0       3  female  NaN  8.000      2    CA. 2343 69.550   NaN        S\n",
       "868          869         0       3    male  NaN  0.000      0      345777  9.500   NaN        S\n",
       "878          879         0       3    male  NaN  0.000      0      349217  7.896   NaN        S\n",
       "888          889         0       3  female  NaN  1.000      2  W./C. 6607 23.450   NaN        S\n",
       "\n",
       "[177 rows x 11 columns]"
      ]
     },
     "execution_count": 63,
     "metadata": {},
     "output_type": "execute_result"
    }
   ],
   "source": [
    "df[df[\"Age\"].isnull()]"
   ]
  },
  {
   "cell_type": "code",
   "execution_count": 64,
   "id": "6f1fe3c4",
   "metadata": {},
   "outputs": [
    {
     "name": "stdout",
     "output_type": "stream",
     "text": [
      "       n_miss  n_miss_ratio\n",
      "Cabin     687        77.104\n",
      "Age       177        19.865\n"
     ]
    }
   ],
   "source": [
    " missing_values_table(df, na_name=False)\n",
    "#Eksik Değerlerin Yakalanması için kullandığımız fonksiyon ile eksik değer var mı yok mu ona baktım"
   ]
  },
  {
   "cell_type": "code",
   "execution_count": 65,
   "id": "f1b2231f",
   "metadata": {},
   "outputs": [
    {
     "name": "stdout",
     "output_type": "stream",
     "text": [
      "             TARGET_MEAN  Count\n",
      "Age_NA_FLAG                    \n",
      "0                  0.406    714\n",
      "1                  0.294    177\n",
      "\n",
      "\n",
      "               TARGET_MEAN  Count\n",
      "Cabin_NA_FLAG                    \n",
      "0                    0.667    204\n",
      "1                    0.300    687\n",
      "\n",
      "\n"
     ]
    }
   ],
   "source": [
    "missing_vs_target(df, \"Survived\")\n",
    "#Eksik değerler ile Survived değişkeni arasındaki ilişkiyi inceledim"
   ]
  },
  {
   "cell_type": "code",
   "execution_count": 66,
   "id": "54bc5138",
   "metadata": {},
   "outputs": [
    {
     "name": "stdout",
     "output_type": "stream",
     "text": [
      "Observations: 891\n",
      "Variables: 11\n",
      "cat_cols: 6\n",
      "num_cols: 3\n",
      "cat_but_car: 2\n",
      "num_but_cat: 4\n"
     ]
    },
    {
     "data": {
      "text/html": [
       "<div>\n",
       "<style scoped>\n",
       "    .dataframe tbody tr th:only-of-type {\n",
       "        vertical-align: middle;\n",
       "    }\n",
       "\n",
       "    .dataframe tbody tr th {\n",
       "        vertical-align: top;\n",
       "    }\n",
       "\n",
       "    .dataframe thead th {\n",
       "        text-align: right;\n",
       "    }\n",
       "</style>\n",
       "<table border=\"1\" class=\"dataframe\">\n",
       "  <thead>\n",
       "    <tr style=\"text-align: right;\">\n",
       "      <th></th>\n",
       "      <th>PassengerId</th>\n",
       "      <th>Survived</th>\n",
       "      <th>Pclass</th>\n",
       "      <th>Sex</th>\n",
       "      <th>Age</th>\n",
       "      <th>SibSp</th>\n",
       "      <th>Parch</th>\n",
       "      <th>Ticket</th>\n",
       "      <th>Fare</th>\n",
       "      <th>Cabin</th>\n",
       "      <th>Embarked</th>\n",
       "    </tr>\n",
       "  </thead>\n",
       "  <tbody>\n",
       "    <tr>\n",
       "      <th>0</th>\n",
       "      <td>1</td>\n",
       "      <td>0</td>\n",
       "      <td>3</td>\n",
       "      <td>male</td>\n",
       "      <td>22.000</td>\n",
       "      <td>1.000</td>\n",
       "      <td>0</td>\n",
       "      <td>A/5 21171</td>\n",
       "      <td>7.250</td>\n",
       "      <td>NaN</td>\n",
       "      <td>S</td>\n",
       "    </tr>\n",
       "    <tr>\n",
       "      <th>1</th>\n",
       "      <td>2</td>\n",
       "      <td>1</td>\n",
       "      <td>1</td>\n",
       "      <td>female</td>\n",
       "      <td>38.000</td>\n",
       "      <td>1.000</td>\n",
       "      <td>0</td>\n",
       "      <td>PC 17599</td>\n",
       "      <td>71.283</td>\n",
       "      <td>C85</td>\n",
       "      <td>C</td>\n",
       "    </tr>\n",
       "    <tr>\n",
       "      <th>2</th>\n",
       "      <td>3</td>\n",
       "      <td>1</td>\n",
       "      <td>3</td>\n",
       "      <td>female</td>\n",
       "      <td>26.000</td>\n",
       "      <td>0.000</td>\n",
       "      <td>0</td>\n",
       "      <td>STON/O2. 3101282</td>\n",
       "      <td>7.925</td>\n",
       "      <td>NaN</td>\n",
       "      <td>S</td>\n",
       "    </tr>\n",
       "    <tr>\n",
       "      <th>3</th>\n",
       "      <td>4</td>\n",
       "      <td>1</td>\n",
       "      <td>1</td>\n",
       "      <td>female</td>\n",
       "      <td>35.000</td>\n",
       "      <td>1.000</td>\n",
       "      <td>0</td>\n",
       "      <td>113803</td>\n",
       "      <td>53.100</td>\n",
       "      <td>C123</td>\n",
       "      <td>S</td>\n",
       "    </tr>\n",
       "    <tr>\n",
       "      <th>4</th>\n",
       "      <td>5</td>\n",
       "      <td>0</td>\n",
       "      <td>3</td>\n",
       "      <td>male</td>\n",
       "      <td>35.000</td>\n",
       "      <td>0.000</td>\n",
       "      <td>0</td>\n",
       "      <td>373450</td>\n",
       "      <td>8.050</td>\n",
       "      <td>NaN</td>\n",
       "      <td>S</td>\n",
       "    </tr>\n",
       "    <tr>\n",
       "      <th>...</th>\n",
       "      <td>...</td>\n",
       "      <td>...</td>\n",
       "      <td>...</td>\n",
       "      <td>...</td>\n",
       "      <td>...</td>\n",
       "      <td>...</td>\n",
       "      <td>...</td>\n",
       "      <td>...</td>\n",
       "      <td>...</td>\n",
       "      <td>...</td>\n",
       "      <td>...</td>\n",
       "    </tr>\n",
       "    <tr>\n",
       "      <th>886</th>\n",
       "      <td>887</td>\n",
       "      <td>0</td>\n",
       "      <td>2</td>\n",
       "      <td>male</td>\n",
       "      <td>27.000</td>\n",
       "      <td>0.000</td>\n",
       "      <td>0</td>\n",
       "      <td>211536</td>\n",
       "      <td>13.000</td>\n",
       "      <td>NaN</td>\n",
       "      <td>S</td>\n",
       "    </tr>\n",
       "    <tr>\n",
       "      <th>887</th>\n",
       "      <td>888</td>\n",
       "      <td>1</td>\n",
       "      <td>1</td>\n",
       "      <td>female</td>\n",
       "      <td>19.000</td>\n",
       "      <td>0.000</td>\n",
       "      <td>0</td>\n",
       "      <td>112053</td>\n",
       "      <td>30.000</td>\n",
       "      <td>B42</td>\n",
       "      <td>S</td>\n",
       "    </tr>\n",
       "    <tr>\n",
       "      <th>888</th>\n",
       "      <td>889</td>\n",
       "      <td>0</td>\n",
       "      <td>3</td>\n",
       "      <td>female</td>\n",
       "      <td>NaN</td>\n",
       "      <td>1.000</td>\n",
       "      <td>2</td>\n",
       "      <td>W./C. 6607</td>\n",
       "      <td>23.450</td>\n",
       "      <td>NaN</td>\n",
       "      <td>S</td>\n",
       "    </tr>\n",
       "    <tr>\n",
       "      <th>889</th>\n",
       "      <td>890</td>\n",
       "      <td>1</td>\n",
       "      <td>1</td>\n",
       "      <td>male</td>\n",
       "      <td>26.000</td>\n",
       "      <td>0.000</td>\n",
       "      <td>0</td>\n",
       "      <td>111369</td>\n",
       "      <td>30.000</td>\n",
       "      <td>C148</td>\n",
       "      <td>C</td>\n",
       "    </tr>\n",
       "    <tr>\n",
       "      <th>890</th>\n",
       "      <td>891</td>\n",
       "      <td>0</td>\n",
       "      <td>3</td>\n",
       "      <td>male</td>\n",
       "      <td>32.000</td>\n",
       "      <td>0.000</td>\n",
       "      <td>0</td>\n",
       "      <td>370376</td>\n",
       "      <td>7.750</td>\n",
       "      <td>NaN</td>\n",
       "      <td>Q</td>\n",
       "    </tr>\n",
       "  </tbody>\n",
       "</table>\n",
       "<p>891 rows × 11 columns</p>\n",
       "</div>"
      ],
      "text/plain": [
       "     PassengerId  Survived  Pclass     Sex    Age  SibSp  Parch            Ticket   Fare Cabin Embarked\n",
       "0              1         0       3    male 22.000  1.000      0         A/5 21171  7.250   NaN        S\n",
       "1              2         1       1  female 38.000  1.000      0          PC 17599 71.283   C85        C\n",
       "2              3         1       3  female 26.000  0.000      0  STON/O2. 3101282  7.925   NaN        S\n",
       "3              4         1       1  female 35.000  1.000      0            113803 53.100  C123        S\n",
       "4              5         0       3    male 35.000  0.000      0            373450  8.050   NaN        S\n",
       "..           ...       ...     ...     ...    ...    ...    ...               ...    ...   ...      ...\n",
       "886          887         0       2    male 27.000  0.000      0            211536 13.000   NaN        S\n",
       "887          888         1       1  female 19.000  0.000      0            112053 30.000   B42        S\n",
       "888          889         0       3  female    NaN  1.000      2        W./C. 6607 23.450   NaN        S\n",
       "889          890         1       1    male 26.000  0.000      0            111369 30.000  C148        C\n",
       "890          891         0       3    male 32.000  0.000      0            370376  7.750   NaN        Q\n",
       "\n",
       "[891 rows x 11 columns]"
      ]
     },
     "execution_count": 66,
     "metadata": {},
     "output_type": "execute_result"
    }
   ],
   "source": [
    "missing_cat_cols_fill(df, show_na_col_name=False)\n",
    "#Kategorik değişkenleri mod ile doldurma işlemini  bu fonksiyon ile gerçekleştirdim."
   ]
  },
  {
   "cell_type": "code",
   "execution_count": 67,
   "id": "bce95a9c",
   "metadata": {},
   "outputs": [],
   "source": [
    "df[\"Age\"].fillna(value=df[\"Age\"].mean(),inplace=True)\n",
    "## NaN değerleri yaşın ortalama değerine atadım"
   ]
  },
  {
   "cell_type": "code",
   "execution_count": 68,
   "id": "e4d2eb6c",
   "metadata": {},
   "outputs": [
    {
     "name": "stdout",
     "output_type": "stream",
     "text": [
      "       n_miss  n_miss_ratio\n",
      "Cabin     687        77.104\n"
     ]
    }
   ],
   "source": [
    " missing_values_table(df, na_name=False)\n",
    "#Eksik Değerler var mı diye tekrardan kontrol ettim."
   ]
  },
  {
   "cell_type": "code",
   "execution_count": 69,
   "id": "04269337",
   "metadata": {},
   "outputs": [
    {
     "data": {
      "text/html": [
       "<div>\n",
       "<style scoped>\n",
       "    .dataframe tbody tr th:only-of-type {\n",
       "        vertical-align: middle;\n",
       "    }\n",
       "\n",
       "    .dataframe tbody tr th {\n",
       "        vertical-align: top;\n",
       "    }\n",
       "\n",
       "    .dataframe thead th {\n",
       "        text-align: right;\n",
       "    }\n",
       "</style>\n",
       "<table border=\"1\" class=\"dataframe\">\n",
       "  <thead>\n",
       "    <tr style=\"text-align: right;\">\n",
       "      <th></th>\n",
       "      <th>PassengerId</th>\n",
       "      <th>Survived</th>\n",
       "      <th>Pclass</th>\n",
       "      <th>Age</th>\n",
       "      <th>SibSp</th>\n",
       "      <th>Parch</th>\n",
       "      <th>Fare</th>\n",
       "    </tr>\n",
       "  </thead>\n",
       "  <tbody>\n",
       "    <tr>\n",
       "      <th>PassengerId</th>\n",
       "      <td>1.000</td>\n",
       "      <td>-0.005</td>\n",
       "      <td>-0.035</td>\n",
       "      <td>0.033</td>\n",
       "      <td>-0.058</td>\n",
       "      <td>-0.002</td>\n",
       "      <td>0.013</td>\n",
       "    </tr>\n",
       "    <tr>\n",
       "      <th>Survived</th>\n",
       "      <td>-0.005</td>\n",
       "      <td>1.000</td>\n",
       "      <td>-0.338</td>\n",
       "      <td>-0.070</td>\n",
       "      <td>-0.035</td>\n",
       "      <td>0.082</td>\n",
       "      <td>0.257</td>\n",
       "    </tr>\n",
       "    <tr>\n",
       "      <th>Pclass</th>\n",
       "      <td>-0.035</td>\n",
       "      <td>-0.338</td>\n",
       "      <td>1.000</td>\n",
       "      <td>-0.331</td>\n",
       "      <td>0.083</td>\n",
       "      <td>0.018</td>\n",
       "      <td>-0.549</td>\n",
       "    </tr>\n",
       "    <tr>\n",
       "      <th>Age</th>\n",
       "      <td>0.033</td>\n",
       "      <td>-0.070</td>\n",
       "      <td>-0.331</td>\n",
       "      <td>1.000</td>\n",
       "      <td>-0.233</td>\n",
       "      <td>-0.179</td>\n",
       "      <td>0.092</td>\n",
       "    </tr>\n",
       "    <tr>\n",
       "      <th>SibSp</th>\n",
       "      <td>-0.058</td>\n",
       "      <td>-0.035</td>\n",
       "      <td>0.083</td>\n",
       "      <td>-0.233</td>\n",
       "      <td>1.000</td>\n",
       "      <td>0.415</td>\n",
       "      <td>0.160</td>\n",
       "    </tr>\n",
       "    <tr>\n",
       "      <th>Parch</th>\n",
       "      <td>-0.002</td>\n",
       "      <td>0.082</td>\n",
       "      <td>0.018</td>\n",
       "      <td>-0.179</td>\n",
       "      <td>0.415</td>\n",
       "      <td>1.000</td>\n",
       "      <td>0.216</td>\n",
       "    </tr>\n",
       "    <tr>\n",
       "      <th>Fare</th>\n",
       "      <td>0.013</td>\n",
       "      <td>0.257</td>\n",
       "      <td>-0.549</td>\n",
       "      <td>0.092</td>\n",
       "      <td>0.160</td>\n",
       "      <td>0.216</td>\n",
       "      <td>1.000</td>\n",
       "    </tr>\n",
       "  </tbody>\n",
       "</table>\n",
       "</div>"
      ],
      "text/plain": [
       "             PassengerId  Survived  Pclass    Age  SibSp  Parch   Fare\n",
       "PassengerId        1.000    -0.005  -0.035  0.033 -0.058 -0.002  0.013\n",
       "Survived          -0.005     1.000  -0.338 -0.070 -0.035  0.082  0.257\n",
       "Pclass            -0.035    -0.338   1.000 -0.331  0.083  0.018 -0.549\n",
       "Age                0.033    -0.070  -0.331  1.000 -0.233 -0.179  0.092\n",
       "SibSp             -0.058    -0.035   0.083 -0.233  1.000  0.415  0.160\n",
       "Parch             -0.002     0.082   0.018 -0.179  0.415  1.000  0.216\n",
       "Fare               0.013     0.257  -0.549  0.092  0.160  0.216  1.000"
      ]
     },
     "execution_count": 69,
     "metadata": {},
     "output_type": "execute_result"
    }
   ],
   "source": [
    "df.corr()\n",
    "#Korelasyon tablosunu çıkarttırdım."
   ]
  },
  {
   "cell_type": "code",
   "execution_count": 70,
   "id": "b457a43a",
   "metadata": {},
   "outputs": [],
   "source": [
    "df.drop(['PassengerId','Ticket'],axis=1,inplace=True)\n",
    "#etkileri olmadığı için PassengerId ve Ticket değişkenlerini çıkarttım."
   ]
  },
  {
   "cell_type": "code",
   "execution_count": 71,
   "id": "4ac4eb18",
   "metadata": {},
   "outputs": [
    {
     "name": "stdout",
     "output_type": "stream",
     "text": [
      "       n_miss  n_miss_ratio\n",
      "Cabin     687        77.104\n"
     ]
    }
   ],
   "source": [
    "missing_values_table(df, na_name=False) \n",
    "# Kayıp veri varmı diye kontrol ettim"
   ]
  },
  {
   "cell_type": "code",
   "execution_count": 72,
   "id": "323d6815",
   "metadata": {},
   "outputs": [
    {
     "data": {
      "text/html": [
       "<div>\n",
       "<style scoped>\n",
       "    .dataframe tbody tr th:only-of-type {\n",
       "        vertical-align: middle;\n",
       "    }\n",
       "\n",
       "    .dataframe tbody tr th {\n",
       "        vertical-align: top;\n",
       "    }\n",
       "\n",
       "    .dataframe thead th {\n",
       "        text-align: right;\n",
       "    }\n",
       "</style>\n",
       "<table border=\"1\" class=\"dataframe\">\n",
       "  <thead>\n",
       "    <tr style=\"text-align: right;\">\n",
       "      <th></th>\n",
       "      <th>Survived</th>\n",
       "      <th>Pclass</th>\n",
       "      <th>Sex</th>\n",
       "      <th>Age</th>\n",
       "      <th>SibSp</th>\n",
       "      <th>Parch</th>\n",
       "      <th>Fare</th>\n",
       "      <th>Cabin</th>\n",
       "      <th>Embarked</th>\n",
       "    </tr>\n",
       "  </thead>\n",
       "  <tbody>\n",
       "    <tr>\n",
       "      <th>0</th>\n",
       "      <td>0</td>\n",
       "      <td>3</td>\n",
       "      <td>male</td>\n",
       "      <td>22.000</td>\n",
       "      <td>1.000</td>\n",
       "      <td>0</td>\n",
       "      <td>7.250</td>\n",
       "      <td>NaN</td>\n",
       "      <td>S</td>\n",
       "    </tr>\n",
       "    <tr>\n",
       "      <th>1</th>\n",
       "      <td>1</td>\n",
       "      <td>1</td>\n",
       "      <td>female</td>\n",
       "      <td>38.000</td>\n",
       "      <td>1.000</td>\n",
       "      <td>0</td>\n",
       "      <td>71.283</td>\n",
       "      <td>C85</td>\n",
       "      <td>C</td>\n",
       "    </tr>\n",
       "    <tr>\n",
       "      <th>2</th>\n",
       "      <td>1</td>\n",
       "      <td>3</td>\n",
       "      <td>female</td>\n",
       "      <td>26.000</td>\n",
       "      <td>0.000</td>\n",
       "      <td>0</td>\n",
       "      <td>7.925</td>\n",
       "      <td>NaN</td>\n",
       "      <td>S</td>\n",
       "    </tr>\n",
       "    <tr>\n",
       "      <th>3</th>\n",
       "      <td>1</td>\n",
       "      <td>1</td>\n",
       "      <td>female</td>\n",
       "      <td>35.000</td>\n",
       "      <td>1.000</td>\n",
       "      <td>0</td>\n",
       "      <td>53.100</td>\n",
       "      <td>C123</td>\n",
       "      <td>S</td>\n",
       "    </tr>\n",
       "    <tr>\n",
       "      <th>4</th>\n",
       "      <td>0</td>\n",
       "      <td>3</td>\n",
       "      <td>male</td>\n",
       "      <td>35.000</td>\n",
       "      <td>0.000</td>\n",
       "      <td>0</td>\n",
       "      <td>8.050</td>\n",
       "      <td>NaN</td>\n",
       "      <td>S</td>\n",
       "    </tr>\n",
       "  </tbody>\n",
       "</table>\n",
       "</div>"
      ],
      "text/plain": [
       "   Survived  Pclass     Sex    Age  SibSp  Parch   Fare Cabin Embarked\n",
       "0         0       3    male 22.000  1.000      0  7.250   NaN        S\n",
       "1         1       1  female 38.000  1.000      0 71.283   C85        C\n",
       "2         1       3  female 26.000  0.000      0  7.925   NaN        S\n",
       "3         1       1  female 35.000  1.000      0 53.100  C123        S\n",
       "4         0       3    male 35.000  0.000      0  8.050   NaN        S"
      ]
     },
     "execution_count": 72,
     "metadata": {},
     "output_type": "execute_result"
    }
   ],
   "source": [
    "df.head()"
   ]
  },
  {
   "cell_type": "code",
   "execution_count": 73,
   "id": "de0dbf96",
   "metadata": {},
   "outputs": [],
   "source": [
    "duplicate=df.duplicated()"
   ]
  },
  {
   "cell_type": "code",
   "execution_count": 74,
   "id": "46ffade2",
   "metadata": {},
   "outputs": [
    {
     "data": {
      "text/plain": [
       "False    784\n",
       "True     107\n",
       "dtype: int64"
      ]
     },
     "execution_count": 74,
     "metadata": {},
     "output_type": "execute_result"
    }
   ],
   "source": [
    "duplicate.value_counts()\n",
    "#107 adet eşsiz değer var."
   ]
  },
  {
   "cell_type": "code",
   "execution_count": 75,
   "id": "494a8d61",
   "metadata": {},
   "outputs": [
    {
     "data": {
      "image/png": "[encoded data removed]",
      "text/plain": [
       "<Figure size 1500x1000 with 2 Axes>"
      ]
     },
     "metadata": {},
     "output_type": "display_data"
    }
   ],
   "source": [
    "plt.figure(figsize = (15,10))\n",
    "\n",
    "sns.heatmap(df.corr(method='pearson').drop(\n",
    "  [], axis=1).drop([], axis=0),\n",
    "            annot = True);\n",
    "  \n",
    "plt.show()\n",
    "\n",
    "\n",
    "# en çok ilişki SibSp ile Parch arasındadır.\n",
    "# en az ilişki fare ile Pclass arasındadır."
   ]
  },
  {
   "cell_type": "code",
   "execution_count": 76,
   "id": "59eec338",
   "metadata": {},
   "outputs": [
    {
     "data": {
      "text/html": [
       "<div>\n",
       "<style scoped>\n",
       "    .dataframe tbody tr th:only-of-type {\n",
       "        vertical-align: middle;\n",
       "    }\n",
       "\n",
       "    .dataframe tbody tr th {\n",
       "        vertical-align: top;\n",
       "    }\n",
       "\n",
       "    .dataframe thead th {\n",
       "        text-align: right;\n",
       "    }\n",
       "</style>\n",
       "<table border=\"1\" class=\"dataframe\">\n",
       "  <thead>\n",
       "    <tr style=\"text-align: right;\">\n",
       "      <th></th>\n",
       "      <th>Survived</th>\n",
       "      <th>Pclass</th>\n",
       "      <th>Sex</th>\n",
       "      <th>Age</th>\n",
       "      <th>SibSp</th>\n",
       "      <th>Parch</th>\n",
       "      <th>Fare</th>\n",
       "      <th>Cabin</th>\n",
       "      <th>Q</th>\n",
       "      <th>S</th>\n",
       "    </tr>\n",
       "  </thead>\n",
       "  <tbody>\n",
       "    <tr>\n",
       "      <th>0</th>\n",
       "      <td>0</td>\n",
       "      <td>3</td>\n",
       "      <td>male</td>\n",
       "      <td>22.000</td>\n",
       "      <td>1.000</td>\n",
       "      <td>0</td>\n",
       "      <td>7.250</td>\n",
       "      <td>NaN</td>\n",
       "      <td>0</td>\n",
       "      <td>1</td>\n",
       "    </tr>\n",
       "    <tr>\n",
       "      <th>1</th>\n",
       "      <td>1</td>\n",
       "      <td>1</td>\n",
       "      <td>female</td>\n",
       "      <td>38.000</td>\n",
       "      <td>1.000</td>\n",
       "      <td>0</td>\n",
       "      <td>71.283</td>\n",
       "      <td>C85</td>\n",
       "      <td>0</td>\n",
       "      <td>0</td>\n",
       "    </tr>\n",
       "    <tr>\n",
       "      <th>2</th>\n",
       "      <td>1</td>\n",
       "      <td>3</td>\n",
       "      <td>female</td>\n",
       "      <td>26.000</td>\n",
       "      <td>0.000</td>\n",
       "      <td>0</td>\n",
       "      <td>7.925</td>\n",
       "      <td>NaN</td>\n",
       "      <td>0</td>\n",
       "      <td>1</td>\n",
       "    </tr>\n",
       "    <tr>\n",
       "      <th>3</th>\n",
       "      <td>1</td>\n",
       "      <td>1</td>\n",
       "      <td>female</td>\n",
       "      <td>35.000</td>\n",
       "      <td>1.000</td>\n",
       "      <td>0</td>\n",
       "      <td>53.100</td>\n",
       "      <td>C123</td>\n",
       "      <td>0</td>\n",
       "      <td>1</td>\n",
       "    </tr>\n",
       "    <tr>\n",
       "      <th>4</th>\n",
       "      <td>0</td>\n",
       "      <td>3</td>\n",
       "      <td>male</td>\n",
       "      <td>35.000</td>\n",
       "      <td>0.000</td>\n",
       "      <td>0</td>\n",
       "      <td>8.050</td>\n",
       "      <td>NaN</td>\n",
       "      <td>0</td>\n",
       "      <td>1</td>\n",
       "    </tr>\n",
       "    <tr>\n",
       "      <th>...</th>\n",
       "      <td>...</td>\n",
       "      <td>...</td>\n",
       "      <td>...</td>\n",
       "      <td>...</td>\n",
       "      <td>...</td>\n",
       "      <td>...</td>\n",
       "      <td>...</td>\n",
       "      <td>...</td>\n",
       "      <td>...</td>\n",
       "      <td>...</td>\n",
       "    </tr>\n",
       "    <tr>\n",
       "      <th>886</th>\n",
       "      <td>0</td>\n",
       "      <td>2</td>\n",
       "      <td>male</td>\n",
       "      <td>27.000</td>\n",
       "      <td>0.000</td>\n",
       "      <td>0</td>\n",
       "      <td>13.000</td>\n",
       "      <td>NaN</td>\n",
       "      <td>0</td>\n",
       "      <td>1</td>\n",
       "    </tr>\n",
       "    <tr>\n",
       "      <th>887</th>\n",
       "      <td>1</td>\n",
       "      <td>1</td>\n",
       "      <td>female</td>\n",
       "      <td>19.000</td>\n",
       "      <td>0.000</td>\n",
       "      <td>0</td>\n",
       "      <td>30.000</td>\n",
       "      <td>B42</td>\n",
       "      <td>0</td>\n",
       "      <td>1</td>\n",
       "    </tr>\n",
       "    <tr>\n",
       "      <th>888</th>\n",
       "      <td>0</td>\n",
       "      <td>3</td>\n",
       "      <td>female</td>\n",
       "      <td>29.699</td>\n",
       "      <td>1.000</td>\n",
       "      <td>2</td>\n",
       "      <td>23.450</td>\n",
       "      <td>NaN</td>\n",
       "      <td>0</td>\n",
       "      <td>1</td>\n",
       "    </tr>\n",
       "    <tr>\n",
       "      <th>889</th>\n",
       "      <td>1</td>\n",
       "      <td>1</td>\n",
       "      <td>male</td>\n",
       "      <td>26.000</td>\n",
       "      <td>0.000</td>\n",
       "      <td>0</td>\n",
       "      <td>30.000</td>\n",
       "      <td>C148</td>\n",
       "      <td>0</td>\n",
       "      <td>0</td>\n",
       "    </tr>\n",
       "    <tr>\n",
       "      <th>890</th>\n",
       "      <td>0</td>\n",
       "      <td>3</td>\n",
       "      <td>male</td>\n",
       "      <td>32.000</td>\n",
       "      <td>0.000</td>\n",
       "      <td>0</td>\n",
       "      <td>7.750</td>\n",
       "      <td>NaN</td>\n",
       "      <td>1</td>\n",
       "      <td>0</td>\n",
       "    </tr>\n",
       "  </tbody>\n",
       "</table>\n",
       "<p>891 rows × 10 columns</p>\n",
       "</div>"
      ],
      "text/plain": [
       "     Survived  Pclass     Sex    Age  SibSp  Parch   Fare Cabin  Q  S\n",
       "0           0       3    male 22.000  1.000      0  7.250   NaN  0  1\n",
       "1           1       1  female 38.000  1.000      0 71.283   C85  0  0\n",
       "2           1       3  female 26.000  0.000      0  7.925   NaN  0  1\n",
       "3           1       1  female 35.000  1.000      0 53.100  C123  0  1\n",
       "4           0       3    male 35.000  0.000      0  8.050   NaN  0  1\n",
       "..        ...     ...     ...    ...    ...    ...    ...   ... .. ..\n",
       "886         0       2    male 27.000  0.000      0 13.000   NaN  0  1\n",
       "887         1       1  female 19.000  0.000      0 30.000   B42  0  1\n",
       "888         0       3  female 29.699  1.000      2 23.450   NaN  0  1\n",
       "889         1       1    male 26.000  0.000      0 30.000  C148  0  0\n",
       "890         0       3    male 32.000  0.000      0  7.750   NaN  1  0\n",
       "\n",
       "[891 rows x 10 columns]"
      ]
     },
     "execution_count": 76,
     "metadata": {},
     "output_type": "execute_result"
    }
   ],
   "source": [
    "one_hot_encoder(df,\"Embarked\")\n",
    "#Embarked Sütununun one hot kukla değişkenine göre değerlerini aldım."
   ]
  },
  {
   "cell_type": "code",
   "execution_count": 77,
   "id": "11a9569c",
   "metadata": {},
   "outputs": [
    {
     "data": {
      "text/html": [
       "<div>\n",
       "<style scoped>\n",
       "    .dataframe tbody tr th:only-of-type {\n",
       "        vertical-align: middle;\n",
       "    }\n",
       "\n",
       "    .dataframe tbody tr th {\n",
       "        vertical-align: top;\n",
       "    }\n",
       "\n",
       "    .dataframe thead th {\n",
       "        text-align: right;\n",
       "    }\n",
       "</style>\n",
       "<table border=\"1\" class=\"dataframe\">\n",
       "  <thead>\n",
       "    <tr style=\"text-align: right;\">\n",
       "      <th></th>\n",
       "      <th>Pclass</th>\n",
       "      <th>Sex</th>\n",
       "      <th>Age</th>\n",
       "      <th>SibSp</th>\n",
       "      <th>Parch</th>\n",
       "      <th>Fare</th>\n",
       "      <th>Cabin</th>\n",
       "      <th>Embarked</th>\n",
       "      <th>1</th>\n",
       "    </tr>\n",
       "  </thead>\n",
       "  <tbody>\n",
       "    <tr>\n",
       "      <th>0</th>\n",
       "      <td>3</td>\n",
       "      <td>male</td>\n",
       "      <td>22.000</td>\n",
       "      <td>1.000</td>\n",
       "      <td>0</td>\n",
       "      <td>7.250</td>\n",
       "      <td>NaN</td>\n",
       "      <td>S</td>\n",
       "      <td>0</td>\n",
       "    </tr>\n",
       "    <tr>\n",
       "      <th>1</th>\n",
       "      <td>1</td>\n",
       "      <td>female</td>\n",
       "      <td>38.000</td>\n",
       "      <td>1.000</td>\n",
       "      <td>0</td>\n",
       "      <td>71.283</td>\n",
       "      <td>C85</td>\n",
       "      <td>C</td>\n",
       "      <td>1</td>\n",
       "    </tr>\n",
       "    <tr>\n",
       "      <th>2</th>\n",
       "      <td>3</td>\n",
       "      <td>female</td>\n",
       "      <td>26.000</td>\n",
       "      <td>0.000</td>\n",
       "      <td>0</td>\n",
       "      <td>7.925</td>\n",
       "      <td>NaN</td>\n",
       "      <td>S</td>\n",
       "      <td>1</td>\n",
       "    </tr>\n",
       "    <tr>\n",
       "      <th>3</th>\n",
       "      <td>1</td>\n",
       "      <td>female</td>\n",
       "      <td>35.000</td>\n",
       "      <td>1.000</td>\n",
       "      <td>0</td>\n",
       "      <td>53.100</td>\n",
       "      <td>C123</td>\n",
       "      <td>S</td>\n",
       "      <td>1</td>\n",
       "    </tr>\n",
       "    <tr>\n",
       "      <th>4</th>\n",
       "      <td>3</td>\n",
       "      <td>male</td>\n",
       "      <td>35.000</td>\n",
       "      <td>0.000</td>\n",
       "      <td>0</td>\n",
       "      <td>8.050</td>\n",
       "      <td>NaN</td>\n",
       "      <td>S</td>\n",
       "      <td>0</td>\n",
       "    </tr>\n",
       "    <tr>\n",
       "      <th>...</th>\n",
       "      <td>...</td>\n",
       "      <td>...</td>\n",
       "      <td>...</td>\n",
       "      <td>...</td>\n",
       "      <td>...</td>\n",
       "      <td>...</td>\n",
       "      <td>...</td>\n",
       "      <td>...</td>\n",
       "      <td>...</td>\n",
       "    </tr>\n",
       "    <tr>\n",
       "      <th>886</th>\n",
       "      <td>2</td>\n",
       "      <td>male</td>\n",
       "      <td>27.000</td>\n",
       "      <td>0.000</td>\n",
       "      <td>0</td>\n",
       "      <td>13.000</td>\n",
       "      <td>NaN</td>\n",
       "      <td>S</td>\n",
       "      <td>0</td>\n",
       "    </tr>\n",
       "    <tr>\n",
       "      <th>887</th>\n",
       "      <td>1</td>\n",
       "      <td>female</td>\n",
       "      <td>19.000</td>\n",
       "      <td>0.000</td>\n",
       "      <td>0</td>\n",
       "      <td>30.000</td>\n",
       "      <td>B42</td>\n",
       "      <td>S</td>\n",
       "      <td>1</td>\n",
       "    </tr>\n",
       "    <tr>\n",
       "      <th>888</th>\n",
       "      <td>3</td>\n",
       "      <td>female</td>\n",
       "      <td>29.699</td>\n",
       "      <td>1.000</td>\n",
       "      <td>2</td>\n",
       "      <td>23.450</td>\n",
       "      <td>NaN</td>\n",
       "      <td>S</td>\n",
       "      <td>0</td>\n",
       "    </tr>\n",
       "    <tr>\n",
       "      <th>889</th>\n",
       "      <td>1</td>\n",
       "      <td>male</td>\n",
       "      <td>26.000</td>\n",
       "      <td>0.000</td>\n",
       "      <td>0</td>\n",
       "      <td>30.000</td>\n",
       "      <td>C148</td>\n",
       "      <td>C</td>\n",
       "      <td>1</td>\n",
       "    </tr>\n",
       "    <tr>\n",
       "      <th>890</th>\n",
       "      <td>3</td>\n",
       "      <td>male</td>\n",
       "      <td>32.000</td>\n",
       "      <td>0.000</td>\n",
       "      <td>0</td>\n",
       "      <td>7.750</td>\n",
       "      <td>NaN</td>\n",
       "      <td>Q</td>\n",
       "      <td>0</td>\n",
       "    </tr>\n",
       "  </tbody>\n",
       "</table>\n",
       "<p>891 rows × 9 columns</p>\n",
       "</div>"
      ],
      "text/plain": [
       "     Pclass     Sex    Age  SibSp  Parch   Fare Cabin Embarked  1\n",
       "0         3    male 22.000  1.000      0  7.250   NaN        S  0\n",
       "1         1  female 38.000  1.000      0 71.283   C85        C  1\n",
       "2         3  female 26.000  0.000      0  7.925   NaN        S  1\n",
       "3         1  female 35.000  1.000      0 53.100  C123        S  1\n",
       "4         3    male 35.000  0.000      0  8.050   NaN        S  0\n",
       "..      ...     ...    ...    ...    ...    ...   ...      ... ..\n",
       "886       2    male 27.000  0.000      0 13.000   NaN        S  0\n",
       "887       1  female 19.000  0.000      0 30.000   B42        S  1\n",
       "888       3  female 29.699  1.000      2 23.450   NaN        S  0\n",
       "889       1    male 26.000  0.000      0 30.000  C148        C  1\n",
       "890       3    male 32.000  0.000      0  7.750   NaN        Q  0\n",
       "\n",
       "[891 rows x 9 columns]"
      ]
     },
     "execution_count": 77,
     "metadata": {},
     "output_type": "execute_result"
    }
   ],
   "source": [
    "one_hot_encoder(df,\"Survived\")\n",
    "#Survived Sütununun one hot kukla değişkenine göre değerlerini aldım."
   ]
  },
  {
   "cell_type": "code",
   "execution_count": 78,
   "id": "0e3b9977",
   "metadata": {},
   "outputs": [
    {
     "data": {
      "text/html": [
       "<div>\n",
       "<style scoped>\n",
       "    .dataframe tbody tr th:only-of-type {\n",
       "        vertical-align: middle;\n",
       "    }\n",
       "\n",
       "    .dataframe tbody tr th {\n",
       "        vertical-align: top;\n",
       "    }\n",
       "\n",
       "    .dataframe thead th {\n",
       "        text-align: right;\n",
       "    }\n",
       "</style>\n",
       "<table border=\"1\" class=\"dataframe\">\n",
       "  <thead>\n",
       "    <tr style=\"text-align: right;\">\n",
       "      <th></th>\n",
       "      <th>Survived</th>\n",
       "      <th>Pclass</th>\n",
       "      <th>Age</th>\n",
       "      <th>SibSp</th>\n",
       "      <th>Parch</th>\n",
       "      <th>Fare</th>\n",
       "      <th>Cabin</th>\n",
       "      <th>Embarked</th>\n",
       "      <th>male</th>\n",
       "    </tr>\n",
       "  </thead>\n",
       "  <tbody>\n",
       "    <tr>\n",
       "      <th>0</th>\n",
       "      <td>0</td>\n",
       "      <td>3</td>\n",
       "      <td>22.000</td>\n",
       "      <td>1.000</td>\n",
       "      <td>0</td>\n",
       "      <td>7.250</td>\n",
       "      <td>NaN</td>\n",
       "      <td>S</td>\n",
       "      <td>1</td>\n",
       "    </tr>\n",
       "    <tr>\n",
       "      <th>1</th>\n",
       "      <td>1</td>\n",
       "      <td>1</td>\n",
       "      <td>38.000</td>\n",
       "      <td>1.000</td>\n",
       "      <td>0</td>\n",
       "      <td>71.283</td>\n",
       "      <td>C85</td>\n",
       "      <td>C</td>\n",
       "      <td>0</td>\n",
       "    </tr>\n",
       "    <tr>\n",
       "      <th>2</th>\n",
       "      <td>1</td>\n",
       "      <td>3</td>\n",
       "      <td>26.000</td>\n",
       "      <td>0.000</td>\n",
       "      <td>0</td>\n",
       "      <td>7.925</td>\n",
       "      <td>NaN</td>\n",
       "      <td>S</td>\n",
       "      <td>0</td>\n",
       "    </tr>\n",
       "    <tr>\n",
       "      <th>3</th>\n",
       "      <td>1</td>\n",
       "      <td>1</td>\n",
       "      <td>35.000</td>\n",
       "      <td>1.000</td>\n",
       "      <td>0</td>\n",
       "      <td>53.100</td>\n",
       "      <td>C123</td>\n",
       "      <td>S</td>\n",
       "      <td>0</td>\n",
       "    </tr>\n",
       "    <tr>\n",
       "      <th>4</th>\n",
       "      <td>0</td>\n",
       "      <td>3</td>\n",
       "      <td>35.000</td>\n",
       "      <td>0.000</td>\n",
       "      <td>0</td>\n",
       "      <td>8.050</td>\n",
       "      <td>NaN</td>\n",
       "      <td>S</td>\n",
       "      <td>1</td>\n",
       "    </tr>\n",
       "    <tr>\n",
       "      <th>...</th>\n",
       "      <td>...</td>\n",
       "      <td>...</td>\n",
       "      <td>...</td>\n",
       "      <td>...</td>\n",
       "      <td>...</td>\n",
       "      <td>...</td>\n",
       "      <td>...</td>\n",
       "      <td>...</td>\n",
       "      <td>...</td>\n",
       "    </tr>\n",
       "    <tr>\n",
       "      <th>886</th>\n",
       "      <td>0</td>\n",
       "      <td>2</td>\n",
       "      <td>27.000</td>\n",
       "      <td>0.000</td>\n",
       "      <td>0</td>\n",
       "      <td>13.000</td>\n",
       "      <td>NaN</td>\n",
       "      <td>S</td>\n",
       "      <td>1</td>\n",
       "    </tr>\n",
       "    <tr>\n",
       "      <th>887</th>\n",
       "      <td>1</td>\n",
       "      <td>1</td>\n",
       "      <td>19.000</td>\n",
       "      <td>0.000</td>\n",
       "      <td>0</td>\n",
       "      <td>30.000</td>\n",
       "      <td>B42</td>\n",
       "      <td>S</td>\n",
       "      <td>0</td>\n",
       "    </tr>\n",
       "    <tr>\n",
       "      <th>888</th>\n",
       "      <td>0</td>\n",
       "      <td>3</td>\n",
       "      <td>29.699</td>\n",
       "      <td>1.000</td>\n",
       "      <td>2</td>\n",
       "      <td>23.450</td>\n",
       "      <td>NaN</td>\n",
       "      <td>S</td>\n",
       "      <td>0</td>\n",
       "    </tr>\n",
       "    <tr>\n",
       "      <th>889</th>\n",
       "      <td>1</td>\n",
       "      <td>1</td>\n",
       "      <td>26.000</td>\n",
       "      <td>0.000</td>\n",
       "      <td>0</td>\n",
       "      <td>30.000</td>\n",
       "      <td>C148</td>\n",
       "      <td>C</td>\n",
       "      <td>1</td>\n",
       "    </tr>\n",
       "    <tr>\n",
       "      <th>890</th>\n",
       "      <td>0</td>\n",
       "      <td>3</td>\n",
       "      <td>32.000</td>\n",
       "      <td>0.000</td>\n",
       "      <td>0</td>\n",
       "      <td>7.750</td>\n",
       "      <td>NaN</td>\n",
       "      <td>Q</td>\n",
       "      <td>1</td>\n",
       "    </tr>\n",
       "  </tbody>\n",
       "</table>\n",
       "<p>891 rows × 9 columns</p>\n",
       "</div>"
      ],
      "text/plain": [
       "     Survived  Pclass    Age  SibSp  Parch   Fare Cabin Embarked  male\n",
       "0           0       3 22.000  1.000      0  7.250   NaN        S     1\n",
       "1           1       1 38.000  1.000      0 71.283   C85        C     0\n",
       "2           1       3 26.000  0.000      0  7.925   NaN        S     0\n",
       "3           1       1 35.000  1.000      0 53.100  C123        S     0\n",
       "4           0       3 35.000  0.000      0  8.050   NaN        S     1\n",
       "..        ...     ...    ...    ...    ...    ...   ...      ...   ...\n",
       "886         0       2 27.000  0.000      0 13.000   NaN        S     1\n",
       "887         1       1 19.000  0.000      0 30.000   B42        S     0\n",
       "888         0       3 29.699  1.000      2 23.450   NaN        S     0\n",
       "889         1       1 26.000  0.000      0 30.000  C148        C     1\n",
       "890         0       3 32.000  0.000      0  7.750   NaN        Q     1\n",
       "\n",
       "[891 rows x 9 columns]"
      ]
     },
     "execution_count": 78,
     "metadata": {},
     "output_type": "execute_result"
    }
   ],
   "source": [
    "one_hot_encoder(df,\"Sex\")\n",
    "#Sex Sütununun one hot kukla değişkenine göre değerlerini aldım."
   ]
  },
  {
   "cell_type": "code",
   "execution_count": 79,
   "id": "2f94950a",
   "metadata": {},
   "outputs": [
    {
     "data": {
      "text/html": [
       "<div>\n",
       "<style scoped>\n",
       "    .dataframe tbody tr th:only-of-type {\n",
       "        vertical-align: middle;\n",
       "    }\n",
       "\n",
       "    .dataframe tbody tr th {\n",
       "        vertical-align: top;\n",
       "    }\n",
       "\n",
       "    .dataframe thead th {\n",
       "        text-align: right;\n",
       "    }\n",
       "</style>\n",
       "<table border=\"1\" class=\"dataframe\">\n",
       "  <thead>\n",
       "    <tr style=\"text-align: right;\">\n",
       "      <th></th>\n",
       "      <th>Survived</th>\n",
       "      <th>Pclass</th>\n",
       "      <th>Sex</th>\n",
       "      <th>Age</th>\n",
       "      <th>Parch</th>\n",
       "      <th>Fare</th>\n",
       "      <th>Cabin</th>\n",
       "      <th>Embarked</th>\n",
       "      <th>1.0</th>\n",
       "      <th>2.0</th>\n",
       "      <th>3.0</th>\n",
       "      <th>4.0</th>\n",
       "      <th>5.0</th>\n",
       "      <th>8.0</th>\n",
       "    </tr>\n",
       "  </thead>\n",
       "  <tbody>\n",
       "    <tr>\n",
       "      <th>0</th>\n",
       "      <td>0</td>\n",
       "      <td>3</td>\n",
       "      <td>male</td>\n",
       "      <td>22.000</td>\n",
       "      <td>0</td>\n",
       "      <td>7.250</td>\n",
       "      <td>NaN</td>\n",
       "      <td>S</td>\n",
       "      <td>1</td>\n",
       "      <td>0</td>\n",
       "      <td>0</td>\n",
       "      <td>0</td>\n",
       "      <td>0</td>\n",
       "      <td>0</td>\n",
       "    </tr>\n",
       "    <tr>\n",
       "      <th>1</th>\n",
       "      <td>1</td>\n",
       "      <td>1</td>\n",
       "      <td>female</td>\n",
       "      <td>38.000</td>\n",
       "      <td>0</td>\n",
       "      <td>71.283</td>\n",
       "      <td>C85</td>\n",
       "      <td>C</td>\n",
       "      <td>1</td>\n",
       "      <td>0</td>\n",
       "      <td>0</td>\n",
       "      <td>0</td>\n",
       "      <td>0</td>\n",
       "      <td>0</td>\n",
       "    </tr>\n",
       "    <tr>\n",
       "      <th>2</th>\n",
       "      <td>1</td>\n",
       "      <td>3</td>\n",
       "      <td>female</td>\n",
       "      <td>26.000</td>\n",
       "      <td>0</td>\n",
       "      <td>7.925</td>\n",
       "      <td>NaN</td>\n",
       "      <td>S</td>\n",
       "      <td>0</td>\n",
       "      <td>0</td>\n",
       "      <td>0</td>\n",
       "      <td>0</td>\n",
       "      <td>0</td>\n",
       "      <td>0</td>\n",
       "    </tr>\n",
       "    <tr>\n",
       "      <th>3</th>\n",
       "      <td>1</td>\n",
       "      <td>1</td>\n",
       "      <td>female</td>\n",
       "      <td>35.000</td>\n",
       "      <td>0</td>\n",
       "      <td>53.100</td>\n",
       "      <td>C123</td>\n",
       "      <td>S</td>\n",
       "      <td>1</td>\n",
       "      <td>0</td>\n",
       "      <td>0</td>\n",
       "      <td>0</td>\n",
       "      <td>0</td>\n",
       "      <td>0</td>\n",
       "    </tr>\n",
       "    <tr>\n",
       "      <th>4</th>\n",
       "      <td>0</td>\n",
       "      <td>3</td>\n",
       "      <td>male</td>\n",
       "      <td>35.000</td>\n",
       "      <td>0</td>\n",
       "      <td>8.050</td>\n",
       "      <td>NaN</td>\n",
       "      <td>S</td>\n",
       "      <td>0</td>\n",
       "      <td>0</td>\n",
       "      <td>0</td>\n",
       "      <td>0</td>\n",
       "      <td>0</td>\n",
       "      <td>0</td>\n",
       "    </tr>\n",
       "    <tr>\n",
       "      <th>...</th>\n",
       "      <td>...</td>\n",
       "      <td>...</td>\n",
       "      <td>...</td>\n",
       "      <td>...</td>\n",
       "      <td>...</td>\n",
       "      <td>...</td>\n",
       "      <td>...</td>\n",
       "      <td>...</td>\n",
       "      <td>...</td>\n",
       "      <td>...</td>\n",
       "      <td>...</td>\n",
       "      <td>...</td>\n",
       "      <td>...</td>\n",
       "      <td>...</td>\n",
       "    </tr>\n",
       "    <tr>\n",
       "      <th>886</th>\n",
       "      <td>0</td>\n",
       "      <td>2</td>\n",
       "      <td>male</td>\n",
       "      <td>27.000</td>\n",
       "      <td>0</td>\n",
       "      <td>13.000</td>\n",
       "      <td>NaN</td>\n",
       "      <td>S</td>\n",
       "      <td>0</td>\n",
       "      <td>0</td>\n",
       "      <td>0</td>\n",
       "      <td>0</td>\n",
       "      <td>0</td>\n",
       "      <td>0</td>\n",
       "    </tr>\n",
       "    <tr>\n",
       "      <th>887</th>\n",
       "      <td>1</td>\n",
       "      <td>1</td>\n",
       "      <td>female</td>\n",
       "      <td>19.000</td>\n",
       "      <td>0</td>\n",
       "      <td>30.000</td>\n",
       "      <td>B42</td>\n",
       "      <td>S</td>\n",
       "      <td>0</td>\n",
       "      <td>0</td>\n",
       "      <td>0</td>\n",
       "      <td>0</td>\n",
       "      <td>0</td>\n",
       "      <td>0</td>\n",
       "    </tr>\n",
       "    <tr>\n",
       "      <th>888</th>\n",
       "      <td>0</td>\n",
       "      <td>3</td>\n",
       "      <td>female</td>\n",
       "      <td>29.699</td>\n",
       "      <td>2</td>\n",
       "      <td>23.450</td>\n",
       "      <td>NaN</td>\n",
       "      <td>S</td>\n",
       "      <td>1</td>\n",
       "      <td>0</td>\n",
       "      <td>0</td>\n",
       "      <td>0</td>\n",
       "      <td>0</td>\n",
       "      <td>0</td>\n",
       "    </tr>\n",
       "    <tr>\n",
       "      <th>889</th>\n",
       "      <td>1</td>\n",
       "      <td>1</td>\n",
       "      <td>male</td>\n",
       "      <td>26.000</td>\n",
       "      <td>0</td>\n",
       "      <td>30.000</td>\n",
       "      <td>C148</td>\n",
       "      <td>C</td>\n",
       "      <td>0</td>\n",
       "      <td>0</td>\n",
       "      <td>0</td>\n",
       "      <td>0</td>\n",
       "      <td>0</td>\n",
       "      <td>0</td>\n",
       "    </tr>\n",
       "    <tr>\n",
       "      <th>890</th>\n",
       "      <td>0</td>\n",
       "      <td>3</td>\n",
       "      <td>male</td>\n",
       "      <td>32.000</td>\n",
       "      <td>0</td>\n",
       "      <td>7.750</td>\n",
       "      <td>NaN</td>\n",
       "      <td>Q</td>\n",
       "      <td>0</td>\n",
       "      <td>0</td>\n",
       "      <td>0</td>\n",
       "      <td>0</td>\n",
       "      <td>0</td>\n",
       "      <td>0</td>\n",
       "    </tr>\n",
       "  </tbody>\n",
       "</table>\n",
       "<p>891 rows × 14 columns</p>\n",
       "</div>"
      ],
      "text/plain": [
       "     Survived  Pclass     Sex    Age  Parch   Fare Cabin Embarked  1.0  2.0  3.0  4.0  5.0  8.0\n",
       "0           0       3    male 22.000      0  7.250   NaN        S    1    0    0    0    0    0\n",
       "1           1       1  female 38.000      0 71.283   C85        C    1    0    0    0    0    0\n",
       "2           1       3  female 26.000      0  7.925   NaN        S    0    0    0    0    0    0\n",
       "3           1       1  female 35.000      0 53.100  C123        S    1    0    0    0    0    0\n",
       "4           0       3    male 35.000      0  8.050   NaN        S    0    0    0    0    0    0\n",
       "..        ...     ...     ...    ...    ...    ...   ...      ...  ...  ...  ...  ...  ...  ...\n",
       "886         0       2    male 27.000      0 13.000   NaN        S    0    0    0    0    0    0\n",
       "887         1       1  female 19.000      0 30.000   B42        S    0    0    0    0    0    0\n",
       "888         0       3  female 29.699      2 23.450   NaN        S    1    0    0    0    0    0\n",
       "889         1       1    male 26.000      0 30.000  C148        C    0    0    0    0    0    0\n",
       "890         0       3    male 32.000      0  7.750   NaN        Q    0    0    0    0    0    0\n",
       "\n",
       "[891 rows x 14 columns]"
      ]
     },
     "execution_count": 79,
     "metadata": {},
     "output_type": "execute_result"
    }
   ],
   "source": [
    "one_hot_encoder(df,\"SibSp\")\n",
    "#Survived Sütununun one hot kukla değişkenine göre değerlerini aldım."
   ]
  },
  {
   "cell_type": "code",
   "execution_count": 80,
   "id": "5dedb97e",
   "metadata": {},
   "outputs": [
    {
     "data": {
      "text/html": [
       "<div>\n",
       "<style scoped>\n",
       "    .dataframe tbody tr th:only-of-type {\n",
       "        vertical-align: middle;\n",
       "    }\n",
       "\n",
       "    .dataframe tbody tr th {\n",
       "        vertical-align: top;\n",
       "    }\n",
       "\n",
       "    .dataframe thead th {\n",
       "        text-align: right;\n",
       "    }\n",
       "</style>\n",
       "<table border=\"1\" class=\"dataframe\">\n",
       "  <thead>\n",
       "    <tr style=\"text-align: right;\">\n",
       "      <th></th>\n",
       "      <th>Survived</th>\n",
       "      <th>Pclass</th>\n",
       "      <th>Sex</th>\n",
       "      <th>Age</th>\n",
       "      <th>SibSp</th>\n",
       "      <th>Fare</th>\n",
       "      <th>Cabin</th>\n",
       "      <th>Embarked</th>\n",
       "      <th>1</th>\n",
       "      <th>2</th>\n",
       "      <th>3</th>\n",
       "      <th>4</th>\n",
       "      <th>5</th>\n",
       "      <th>6</th>\n",
       "    </tr>\n",
       "  </thead>\n",
       "  <tbody>\n",
       "    <tr>\n",
       "      <th>0</th>\n",
       "      <td>0</td>\n",
       "      <td>3</td>\n",
       "      <td>male</td>\n",
       "      <td>22.000</td>\n",
       "      <td>1.000</td>\n",
       "      <td>7.250</td>\n",
       "      <td>NaN</td>\n",
       "      <td>S</td>\n",
       "      <td>0</td>\n",
       "      <td>0</td>\n",
       "      <td>0</td>\n",
       "      <td>0</td>\n",
       "      <td>0</td>\n",
       "      <td>0</td>\n",
       "    </tr>\n",
       "    <tr>\n",
       "      <th>1</th>\n",
       "      <td>1</td>\n",
       "      <td>1</td>\n",
       "      <td>female</td>\n",
       "      <td>38.000</td>\n",
       "      <td>1.000</td>\n",
       "      <td>71.283</td>\n",
       "      <td>C85</td>\n",
       "      <td>C</td>\n",
       "      <td>0</td>\n",
       "      <td>0</td>\n",
       "      <td>0</td>\n",
       "      <td>0</td>\n",
       "      <td>0</td>\n",
       "      <td>0</td>\n",
       "    </tr>\n",
       "    <tr>\n",
       "      <th>2</th>\n",
       "      <td>1</td>\n",
       "      <td>3</td>\n",
       "      <td>female</td>\n",
       "      <td>26.000</td>\n",
       "      <td>0.000</td>\n",
       "      <td>7.925</td>\n",
       "      <td>NaN</td>\n",
       "      <td>S</td>\n",
       "      <td>0</td>\n",
       "      <td>0</td>\n",
       "      <td>0</td>\n",
       "      <td>0</td>\n",
       "      <td>0</td>\n",
       "      <td>0</td>\n",
       "    </tr>\n",
       "    <tr>\n",
       "      <th>3</th>\n",
       "      <td>1</td>\n",
       "      <td>1</td>\n",
       "      <td>female</td>\n",
       "      <td>35.000</td>\n",
       "      <td>1.000</td>\n",
       "      <td>53.100</td>\n",
       "      <td>C123</td>\n",
       "      <td>S</td>\n",
       "      <td>0</td>\n",
       "      <td>0</td>\n",
       "      <td>0</td>\n",
       "      <td>0</td>\n",
       "      <td>0</td>\n",
       "      <td>0</td>\n",
       "    </tr>\n",
       "    <tr>\n",
       "      <th>4</th>\n",
       "      <td>0</td>\n",
       "      <td>3</td>\n",
       "      <td>male</td>\n",
       "      <td>35.000</td>\n",
       "      <td>0.000</td>\n",
       "      <td>8.050</td>\n",
       "      <td>NaN</td>\n",
       "      <td>S</td>\n",
       "      <td>0</td>\n",
       "      <td>0</td>\n",
       "      <td>0</td>\n",
       "      <td>0</td>\n",
       "      <td>0</td>\n",
       "      <td>0</td>\n",
       "    </tr>\n",
       "    <tr>\n",
       "      <th>...</th>\n",
       "      <td>...</td>\n",
       "      <td>...</td>\n",
       "      <td>...</td>\n",
       "      <td>...</td>\n",
       "      <td>...</td>\n",
       "      <td>...</td>\n",
       "      <td>...</td>\n",
       "      <td>...</td>\n",
       "      <td>...</td>\n",
       "      <td>...</td>\n",
       "      <td>...</td>\n",
       "      <td>...</td>\n",
       "      <td>...</td>\n",
       "      <td>...</td>\n",
       "    </tr>\n",
       "    <tr>\n",
       "      <th>886</th>\n",
       "      <td>0</td>\n",
       "      <td>2</td>\n",
       "      <td>male</td>\n",
       "      <td>27.000</td>\n",
       "      <td>0.000</td>\n",
       "      <td>13.000</td>\n",
       "      <td>NaN</td>\n",
       "      <td>S</td>\n",
       "      <td>0</td>\n",
       "      <td>0</td>\n",
       "      <td>0</td>\n",
       "      <td>0</td>\n",
       "      <td>0</td>\n",
       "      <td>0</td>\n",
       "    </tr>\n",
       "    <tr>\n",
       "      <th>887</th>\n",
       "      <td>1</td>\n",
       "      <td>1</td>\n",
       "      <td>female</td>\n",
       "      <td>19.000</td>\n",
       "      <td>0.000</td>\n",
       "      <td>30.000</td>\n",
       "      <td>B42</td>\n",
       "      <td>S</td>\n",
       "      <td>0</td>\n",
       "      <td>0</td>\n",
       "      <td>0</td>\n",
       "      <td>0</td>\n",
       "      <td>0</td>\n",
       "      <td>0</td>\n",
       "    </tr>\n",
       "    <tr>\n",
       "      <th>888</th>\n",
       "      <td>0</td>\n",
       "      <td>3</td>\n",
       "      <td>female</td>\n",
       "      <td>29.699</td>\n",
       "      <td>1.000</td>\n",
       "      <td>23.450</td>\n",
       "      <td>NaN</td>\n",
       "      <td>S</td>\n",
       "      <td>0</td>\n",
       "      <td>1</td>\n",
       "      <td>0</td>\n",
       "      <td>0</td>\n",
       "      <td>0</td>\n",
       "      <td>0</td>\n",
       "    </tr>\n",
       "    <tr>\n",
       "      <th>889</th>\n",
       "      <td>1</td>\n",
       "      <td>1</td>\n",
       "      <td>male</td>\n",
       "      <td>26.000</td>\n",
       "      <td>0.000</td>\n",
       "      <td>30.000</td>\n",
       "      <td>C148</td>\n",
       "      <td>C</td>\n",
       "      <td>0</td>\n",
       "      <td>0</td>\n",
       "      <td>0</td>\n",
       "      <td>0</td>\n",
       "      <td>0</td>\n",
       "      <td>0</td>\n",
       "    </tr>\n",
       "    <tr>\n",
       "      <th>890</th>\n",
       "      <td>0</td>\n",
       "      <td>3</td>\n",
       "      <td>male</td>\n",
       "      <td>32.000</td>\n",
       "      <td>0.000</td>\n",
       "      <td>7.750</td>\n",
       "      <td>NaN</td>\n",
       "      <td>Q</td>\n",
       "      <td>0</td>\n",
       "      <td>0</td>\n",
       "      <td>0</td>\n",
       "      <td>0</td>\n",
       "      <td>0</td>\n",
       "      <td>0</td>\n",
       "    </tr>\n",
       "  </tbody>\n",
       "</table>\n",
       "<p>891 rows × 14 columns</p>\n",
       "</div>"
      ],
      "text/plain": [
       "     Survived  Pclass     Sex    Age  SibSp   Fare Cabin Embarked  1  2  3  4  5  6\n",
       "0           0       3    male 22.000  1.000  7.250   NaN        S  0  0  0  0  0  0\n",
       "1           1       1  female 38.000  1.000 71.283   C85        C  0  0  0  0  0  0\n",
       "2           1       3  female 26.000  0.000  7.925   NaN        S  0  0  0  0  0  0\n",
       "3           1       1  female 35.000  1.000 53.100  C123        S  0  0  0  0  0  0\n",
       "4           0       3    male 35.000  0.000  8.050   NaN        S  0  0  0  0  0  0\n",
       "..        ...     ...     ...    ...    ...    ...   ...      ... .. .. .. .. .. ..\n",
       "886         0       2    male 27.000  0.000 13.000   NaN        S  0  0  0  0  0  0\n",
       "887         1       1  female 19.000  0.000 30.000   B42        S  0  0  0  0  0  0\n",
       "888         0       3  female 29.699  1.000 23.450   NaN        S  0  1  0  0  0  0\n",
       "889         1       1    male 26.000  0.000 30.000  C148        C  0  0  0  0  0  0\n",
       "890         0       3    male 32.000  0.000  7.750   NaN        Q  0  0  0  0  0  0\n",
       "\n",
       "[891 rows x 14 columns]"
      ]
     },
     "execution_count": 80,
     "metadata": {},
     "output_type": "execute_result"
    }
   ],
   "source": [
    "one_hot_encoder(df,\"Parch\")\n",
    "#Parch Sütununun one hot kukla değişkenine göre değerlerini aldım."
   ]
  },
  {
   "cell_type": "code",
   "execution_count": 81,
   "id": "573dde15",
   "metadata": {},
   "outputs": [
    {
     "data": {
      "text/plain": [
       "['Survived']"
      ]
     },
     "execution_count": 81,
     "metadata": {},
     "output_type": "execute_result"
    }
   ],
   "source": [
    "binary_cols(df, \"Sex\")"
   ]
  },
  {
   "cell_type": "code",
   "execution_count": 82,
   "id": "c28442d1",
   "metadata": {},
   "outputs": [
    {
     "data": {
      "text/html": [
       "<div>\n",
       "<style scoped>\n",
       "    .dataframe tbody tr th:only-of-type {\n",
       "        vertical-align: middle;\n",
       "    }\n",
       "\n",
       "    .dataframe tbody tr th {\n",
       "        vertical-align: top;\n",
       "    }\n",
       "\n",
       "    .dataframe thead th {\n",
       "        text-align: right;\n",
       "    }\n",
       "</style>\n",
       "<table border=\"1\" class=\"dataframe\">\n",
       "  <thead>\n",
       "    <tr style=\"text-align: right;\">\n",
       "      <th></th>\n",
       "      <th>Survived</th>\n",
       "      <th>Pclass</th>\n",
       "      <th>Sex</th>\n",
       "      <th>Age</th>\n",
       "      <th>SibSp</th>\n",
       "      <th>Parch</th>\n",
       "      <th>Fare</th>\n",
       "      <th>Cabin</th>\n",
       "      <th>Embarked</th>\n",
       "    </tr>\n",
       "  </thead>\n",
       "  <tbody>\n",
       "    <tr>\n",
       "      <th>0</th>\n",
       "      <td>0</td>\n",
       "      <td>3</td>\n",
       "      <td>1</td>\n",
       "      <td>22.000</td>\n",
       "      <td>1.000</td>\n",
       "      <td>0</td>\n",
       "      <td>7.250</td>\n",
       "      <td>NaN</td>\n",
       "      <td>S</td>\n",
       "    </tr>\n",
       "    <tr>\n",
       "      <th>1</th>\n",
       "      <td>1</td>\n",
       "      <td>1</td>\n",
       "      <td>0</td>\n",
       "      <td>38.000</td>\n",
       "      <td>1.000</td>\n",
       "      <td>0</td>\n",
       "      <td>71.283</td>\n",
       "      <td>C85</td>\n",
       "      <td>C</td>\n",
       "    </tr>\n",
       "    <tr>\n",
       "      <th>2</th>\n",
       "      <td>1</td>\n",
       "      <td>3</td>\n",
       "      <td>0</td>\n",
       "      <td>26.000</td>\n",
       "      <td>0.000</td>\n",
       "      <td>0</td>\n",
       "      <td>7.925</td>\n",
       "      <td>NaN</td>\n",
       "      <td>S</td>\n",
       "    </tr>\n",
       "    <tr>\n",
       "      <th>3</th>\n",
       "      <td>1</td>\n",
       "      <td>1</td>\n",
       "      <td>0</td>\n",
       "      <td>35.000</td>\n",
       "      <td>1.000</td>\n",
       "      <td>0</td>\n",
       "      <td>53.100</td>\n",
       "      <td>C123</td>\n",
       "      <td>S</td>\n",
       "    </tr>\n",
       "    <tr>\n",
       "      <th>4</th>\n",
       "      <td>0</td>\n",
       "      <td>3</td>\n",
       "      <td>1</td>\n",
       "      <td>35.000</td>\n",
       "      <td>0.000</td>\n",
       "      <td>0</td>\n",
       "      <td>8.050</td>\n",
       "      <td>NaN</td>\n",
       "      <td>S</td>\n",
       "    </tr>\n",
       "    <tr>\n",
       "      <th>...</th>\n",
       "      <td>...</td>\n",
       "      <td>...</td>\n",
       "      <td>...</td>\n",
       "      <td>...</td>\n",
       "      <td>...</td>\n",
       "      <td>...</td>\n",
       "      <td>...</td>\n",
       "      <td>...</td>\n",
       "      <td>...</td>\n",
       "    </tr>\n",
       "    <tr>\n",
       "      <th>886</th>\n",
       "      <td>0</td>\n",
       "      <td>2</td>\n",
       "      <td>1</td>\n",
       "      <td>27.000</td>\n",
       "      <td>0.000</td>\n",
       "      <td>0</td>\n",
       "      <td>13.000</td>\n",
       "      <td>NaN</td>\n",
       "      <td>S</td>\n",
       "    </tr>\n",
       "    <tr>\n",
       "      <th>887</th>\n",
       "      <td>1</td>\n",
       "      <td>1</td>\n",
       "      <td>0</td>\n",
       "      <td>19.000</td>\n",
       "      <td>0.000</td>\n",
       "      <td>0</td>\n",
       "      <td>30.000</td>\n",
       "      <td>B42</td>\n",
       "      <td>S</td>\n",
       "    </tr>\n",
       "    <tr>\n",
       "      <th>888</th>\n",
       "      <td>0</td>\n",
       "      <td>3</td>\n",
       "      <td>0</td>\n",
       "      <td>29.699</td>\n",
       "      <td>1.000</td>\n",
       "      <td>2</td>\n",
       "      <td>23.450</td>\n",
       "      <td>NaN</td>\n",
       "      <td>S</td>\n",
       "    </tr>\n",
       "    <tr>\n",
       "      <th>889</th>\n",
       "      <td>1</td>\n",
       "      <td>1</td>\n",
       "      <td>1</td>\n",
       "      <td>26.000</td>\n",
       "      <td>0.000</td>\n",
       "      <td>0</td>\n",
       "      <td>30.000</td>\n",
       "      <td>C148</td>\n",
       "      <td>C</td>\n",
       "    </tr>\n",
       "    <tr>\n",
       "      <th>890</th>\n",
       "      <td>0</td>\n",
       "      <td>3</td>\n",
       "      <td>1</td>\n",
       "      <td>32.000</td>\n",
       "      <td>0.000</td>\n",
       "      <td>0</td>\n",
       "      <td>7.750</td>\n",
       "      <td>NaN</td>\n",
       "      <td>Q</td>\n",
       "    </tr>\n",
       "  </tbody>\n",
       "</table>\n",
       "<p>891 rows × 9 columns</p>\n",
       "</div>"
      ],
      "text/plain": [
       "     Survived  Pclass  Sex    Age  SibSp  Parch   Fare Cabin Embarked\n",
       "0           0       3    1 22.000  1.000      0  7.250   NaN        S\n",
       "1           1       1    0 38.000  1.000      0 71.283   C85        C\n",
       "2           1       3    0 26.000  0.000      0  7.925   NaN        S\n",
       "3           1       1    0 35.000  1.000      0 53.100  C123        S\n",
       "4           0       3    1 35.000  0.000      0  8.050   NaN        S\n",
       "..        ...     ...  ...    ...    ...    ...    ...   ...      ...\n",
       "886         0       2    1 27.000  0.000      0 13.000   NaN        S\n",
       "887         1       1    0 19.000  0.000      0 30.000   B42        S\n",
       "888         0       3    0 29.699  1.000      2 23.450   NaN        S\n",
       "889         1       1    1 26.000  0.000      0 30.000  C148        C\n",
       "890         0       3    1 32.000  0.000      0  7.750   NaN        Q\n",
       "\n",
       "[891 rows x 9 columns]"
      ]
     },
     "execution_count": 82,
     "metadata": {},
     "output_type": "execute_result"
    }
   ],
   "source": [
    "label_encoder(df, \"Sex\",)\n"
   ]
  },
  {
   "cell_type": "code",
   "execution_count": 83,
   "id": "3e604cdc",
   "metadata": {},
   "outputs": [
    {
     "data": {
      "text/html": [
       "<div>\n",
       "<style scoped>\n",
       "    .dataframe tbody tr th:only-of-type {\n",
       "        vertical-align: middle;\n",
       "    }\n",
       "\n",
       "    .dataframe tbody tr th {\n",
       "        vertical-align: top;\n",
       "    }\n",
       "\n",
       "    .dataframe thead th {\n",
       "        text-align: right;\n",
       "    }\n",
       "</style>\n",
       "<table border=\"1\" class=\"dataframe\">\n",
       "  <thead>\n",
       "    <tr style=\"text-align: right;\">\n",
       "      <th></th>\n",
       "      <th>Survived</th>\n",
       "      <th>Pclass</th>\n",
       "      <th>Sex</th>\n",
       "      <th>Age</th>\n",
       "      <th>SibSp</th>\n",
       "      <th>Parch</th>\n",
       "      <th>Fare</th>\n",
       "      <th>Cabin</th>\n",
       "      <th>Embarked</th>\n",
       "    </tr>\n",
       "  </thead>\n",
       "  <tbody>\n",
       "    <tr>\n",
       "      <th>0</th>\n",
       "      <td>0</td>\n",
       "      <td>3</td>\n",
       "      <td>1</td>\n",
       "      <td>22.000</td>\n",
       "      <td>1.000</td>\n",
       "      <td>0</td>\n",
       "      <td>7.250</td>\n",
       "      <td>NaN</td>\n",
       "      <td>2</td>\n",
       "    </tr>\n",
       "    <tr>\n",
       "      <th>1</th>\n",
       "      <td>1</td>\n",
       "      <td>1</td>\n",
       "      <td>0</td>\n",
       "      <td>38.000</td>\n",
       "      <td>1.000</td>\n",
       "      <td>0</td>\n",
       "      <td>71.283</td>\n",
       "      <td>C85</td>\n",
       "      <td>0</td>\n",
       "    </tr>\n",
       "    <tr>\n",
       "      <th>2</th>\n",
       "      <td>1</td>\n",
       "      <td>3</td>\n",
       "      <td>0</td>\n",
       "      <td>26.000</td>\n",
       "      <td>0.000</td>\n",
       "      <td>0</td>\n",
       "      <td>7.925</td>\n",
       "      <td>NaN</td>\n",
       "      <td>2</td>\n",
       "    </tr>\n",
       "    <tr>\n",
       "      <th>3</th>\n",
       "      <td>1</td>\n",
       "      <td>1</td>\n",
       "      <td>0</td>\n",
       "      <td>35.000</td>\n",
       "      <td>1.000</td>\n",
       "      <td>0</td>\n",
       "      <td>53.100</td>\n",
       "      <td>C123</td>\n",
       "      <td>2</td>\n",
       "    </tr>\n",
       "    <tr>\n",
       "      <th>4</th>\n",
       "      <td>0</td>\n",
       "      <td>3</td>\n",
       "      <td>1</td>\n",
       "      <td>35.000</td>\n",
       "      <td>0.000</td>\n",
       "      <td>0</td>\n",
       "      <td>8.050</td>\n",
       "      <td>NaN</td>\n",
       "      <td>2</td>\n",
       "    </tr>\n",
       "    <tr>\n",
       "      <th>...</th>\n",
       "      <td>...</td>\n",
       "      <td>...</td>\n",
       "      <td>...</td>\n",
       "      <td>...</td>\n",
       "      <td>...</td>\n",
       "      <td>...</td>\n",
       "      <td>...</td>\n",
       "      <td>...</td>\n",
       "      <td>...</td>\n",
       "    </tr>\n",
       "    <tr>\n",
       "      <th>886</th>\n",
       "      <td>0</td>\n",
       "      <td>2</td>\n",
       "      <td>1</td>\n",
       "      <td>27.000</td>\n",
       "      <td>0.000</td>\n",
       "      <td>0</td>\n",
       "      <td>13.000</td>\n",
       "      <td>NaN</td>\n",
       "      <td>2</td>\n",
       "    </tr>\n",
       "    <tr>\n",
       "      <th>887</th>\n",
       "      <td>1</td>\n",
       "      <td>1</td>\n",
       "      <td>0</td>\n",
       "      <td>19.000</td>\n",
       "      <td>0.000</td>\n",
       "      <td>0</td>\n",
       "      <td>30.000</td>\n",
       "      <td>B42</td>\n",
       "      <td>2</td>\n",
       "    </tr>\n",
       "    <tr>\n",
       "      <th>888</th>\n",
       "      <td>0</td>\n",
       "      <td>3</td>\n",
       "      <td>0</td>\n",
       "      <td>29.699</td>\n",
       "      <td>1.000</td>\n",
       "      <td>2</td>\n",
       "      <td>23.450</td>\n",
       "      <td>NaN</td>\n",
       "      <td>2</td>\n",
       "    </tr>\n",
       "    <tr>\n",
       "      <th>889</th>\n",
       "      <td>1</td>\n",
       "      <td>1</td>\n",
       "      <td>1</td>\n",
       "      <td>26.000</td>\n",
       "      <td>0.000</td>\n",
       "      <td>0</td>\n",
       "      <td>30.000</td>\n",
       "      <td>C148</td>\n",
       "      <td>0</td>\n",
       "    </tr>\n",
       "    <tr>\n",
       "      <th>890</th>\n",
       "      <td>0</td>\n",
       "      <td>3</td>\n",
       "      <td>1</td>\n",
       "      <td>32.000</td>\n",
       "      <td>0.000</td>\n",
       "      <td>0</td>\n",
       "      <td>7.750</td>\n",
       "      <td>NaN</td>\n",
       "      <td>1</td>\n",
       "    </tr>\n",
       "  </tbody>\n",
       "</table>\n",
       "<p>891 rows × 9 columns</p>\n",
       "</div>"
      ],
      "text/plain": [
       "     Survived  Pclass  Sex    Age  SibSp  Parch   Fare Cabin  Embarked\n",
       "0           0       3    1 22.000  1.000      0  7.250   NaN         2\n",
       "1           1       1    0 38.000  1.000      0 71.283   C85         0\n",
       "2           1       3    0 26.000  0.000      0  7.925   NaN         2\n",
       "3           1       1    0 35.000  1.000      0 53.100  C123         2\n",
       "4           0       3    1 35.000  0.000      0  8.050   NaN         2\n",
       "..        ...     ...  ...    ...    ...    ...    ...   ...       ...\n",
       "886         0       2    1 27.000  0.000      0 13.000   NaN         2\n",
       "887         1       1    0 19.000  0.000      0 30.000   B42         2\n",
       "888         0       3    0 29.699  1.000      2 23.450   NaN         2\n",
       "889         1       1    1 26.000  0.000      0 30.000  C148         0\n",
       "890         0       3    1 32.000  0.000      0  7.750   NaN         1\n",
       "\n",
       "[891 rows x 9 columns]"
      ]
     },
     "execution_count": 83,
     "metadata": {},
     "output_type": "execute_result"
    }
   ],
   "source": [
    "label_encoder(df, \"Embarked\",)"
   ]
  },
  {
   "cell_type": "code",
   "execution_count": 84,
   "id": "92219578",
   "metadata": {},
   "outputs": [],
   "source": [
    "df.drop(\"Cabin\",axis=1,inplace=True)\n",
    "#Cabin sütununda çok fazla eksik değer  olduğu için çıkardım."
   ]
  },
  {
   "cell_type": "code",
   "execution_count": 85,
   "id": "d095bfed",
   "metadata": {},
   "outputs": [
    {
     "name": "stdout",
     "output_type": "stream",
     "text": [
      "<class 'pandas.core.frame.DataFrame'>\n",
      "RangeIndex: 891 entries, 0 to 890\n",
      "Data columns (total 8 columns):\n",
      " #   Column    Non-Null Count  Dtype  \n",
      "---  ------    --------------  -----  \n",
      " 0   Survived  891 non-null    int64  \n",
      " 1   Pclass    891 non-null    int64  \n",
      " 2   Sex       891 non-null    int32  \n",
      " 3   Age       891 non-null    float64\n",
      " 4   SibSp     891 non-null    float64\n",
      " 5   Parch     891 non-null    int64  \n",
      " 6   Fare      891 non-null    float64\n",
      " 7   Embarked  891 non-null    int32  \n",
      "dtypes: float64(3), int32(2), int64(3)\n",
      "memory usage: 48.9 KB\n"
     ]
    }
   ],
   "source": [
    "df.info()"
   ]
  },
  {
   "cell_type": "code",
   "execution_count": 86,
   "id": "3dfca9b2",
   "metadata": {},
   "outputs": [
    {
     "data": {
      "text/plain": [
       "(891, 8)"
      ]
     },
     "execution_count": 86,
     "metadata": {},
     "output_type": "execute_result"
    }
   ],
   "source": [
    "df.head()\n",
    "df.shape"
   ]
  },
  {
   "cell_type": "code",
   "execution_count": 87,
   "id": "c2de7cbc",
   "metadata": {},
   "outputs": [],
   "source": [
    "x=df.drop(\"Survived\",axis=1)\n",
    "\n",
    "y=df[\"Survived\"]"
   ]
  },
  {
   "cell_type": "code",
   "execution_count": 88,
   "id": "e7e20358",
   "metadata": {},
   "outputs": [],
   "source": [
    "from sklearn.model_selection import train_test_split,GridSearchCV\n",
    "x_train, x_test, y_train, y_test = train_test_split(x,y,test_size=0.3,random_state=0,stratify=y)\n",
    "#Modelimizi test ve eğitim olmak üzere 2 parçaya bölüyoruz. \n",
    "# %80 eğitim %20 test"
   ]
  },
  {
   "cell_type": "markdown",
   "id": "ecfb1666",
   "metadata": {},
   "source": [
    "# karar agacı "
   ]
  },
  {
   "cell_type": "code",
   "execution_count": 89,
   "id": "980d30d8",
   "metadata": {},
   "outputs": [
    {
     "name": "stdout",
     "output_type": "stream",
     "text": [
      "Accuracy: 0.7873134328358209\n",
      "              precision    recall  f1-score   support\n",
      "\n",
      "           0       0.83      0.83      0.83       165\n",
      "           1       0.73      0.72      0.72       103\n",
      "\n",
      "    accuracy                           0.79       268\n",
      "   macro avg       0.78      0.77      0.77       268\n",
      "weighted avg       0.79      0.79      0.79       268\n",
      "\n"
     ]
    }
   ],
   "source": [
    "from sklearn.preprocessing import StandardScaler\n",
    "from sklearn.metrics import confusion_matrix,classification_report,accuracy_score\n",
    "from sklearn.tree import DecisionTreeClassifier \n",
    "model_tree = DecisionTreeClassifier()\n",
    "sc = StandardScaler()\n",
    "sc.fit(x_train)\n",
    "x_train_scaled = sc.transform(x_train)\n",
    "x_test_scaled = sc.transform(x_test)\n",
    "model_tree.fit(x_train_scaled, y_train )\n",
    "Y_pred=model_tree.predict(x_test_scaled)\n",
    "print(\"Accuracy:\", accuracy_score(y_test, Y_pred))\n",
    "print(classification_report(y_test, Y_pred))"
   ]
  },
  {
   "cell_type": "markdown",
   "id": "e06d304c",
   "metadata": {},
   "source": [
    "# KNN"
   ]
  },
  {
   "cell_type": "code",
   "execution_count": 90,
   "id": "a9c7db25",
   "metadata": {},
   "outputs": [],
   "source": [
    "from sklearn.neighbors import KNeighborsClassifier\n"
   ]
  },
  {
   "cell_type": "code",
   "execution_count": 91,
   "id": "89b05525",
   "metadata": {},
   "outputs": [
    {
     "name": "stdout",
     "output_type": "stream",
     "text": [
      "{'n_neighbors': 11}\n"
     ]
    }
   ],
   "source": [
    "knn_params={'n_neighbors':[5,7,9,11,13]}\n",
    "\n",
    "knn=KNeighborsClassifier()\n",
    "\n",
    "knn_cv_model=GridSearchCV(knn,knn_params,cv=10).fit(x_train_scaled,y_train)\n",
    "\n",
    "print(knn_cv_model.best_params_)"
   ]
  },
  {
   "cell_type": "code",
   "execution_count": 92,
   "id": "3ddf87e4",
   "metadata": {},
   "outputs": [],
   "source": [
    "knn_final=KNeighborsClassifier(n_neighbors=11).fit(x_train_scaled,y_train)"
   ]
  },
  {
   "cell_type": "code",
   "execution_count": 93,
   "id": "644f0d14",
   "metadata": {},
   "outputs": [
    {
     "name": "stdout",
     "output_type": "stream",
     "text": [
      "Test sonucu 0.8246268656716418\n",
      "Eğitim sonucu 0.8330658105939005\n"
     ]
    }
   ],
   "source": [
    "knn_pred_test=knn_final.predict(x_test_scaled)\n",
    "knn_pred_train=knn_final.predict(x_train_scaled)\n",
    "\n",
    "print('Test sonucu',accuracy_score(y_test,knn_pred_test))\n",
    "print('Eğitim sonucu',accuracy_score(y_train,knn_pred_train))\n",
    "\n"
   ]
  },
  {
   "cell_type": "markdown",
   "id": "6d950225",
   "metadata": {},
   "source": [
    "# XGBOOST"
   ]
  },
  {
   "cell_type": "code",
   "execution_count": 94,
   "id": "9b23edaf",
   "metadata": {},
   "outputs": [],
   "source": [
    "\n",
    "from xgboost import XGBClassifier"
   ]
  },
  {
   "cell_type": "code",
   "execution_count": null,
   "id": "07ae309b",
   "metadata": {},
   "outputs": [],
   "source": []
  },
  {
   "cell_type": "code",
   "execution_count": 95,
   "id": "552c5858",
   "metadata": {},
   "outputs": [
    {
     "name": "stdout",
     "output_type": "stream",
     "text": [
      "test sonucu 0.8208955223880597\n",
      "eğitim sonucu 0.9759229534510433\n"
     ]
    }
   ],
   "source": [
    "xgb_model=XGBClassifier().fit(x_train,y_train)\n",
    "y_pred=xgb_model.predict(x_test)\n",
    "y_predict=xgb_model.predict(x_train)\n",
    "\n",
    "print('test sonucu' ,accuracy_score(y_test, y_pred))\n",
    "print('eğitim sonucu',accuracy_score(y_train, y_predict))\n"
   ]
  },
  {
   "cell_type": "raw",
   "id": "e0cb9baf",
   "metadata": {},
   "source": [
    "overfit oldu hiperparametre optimizasyonu yapacağım.\n"
   ]
  },
  {
   "cell_type": "code",
   "execution_count": 96,
   "id": "643ea2ee",
   "metadata": {},
   "outputs": [
    {
     "name": "stdout",
     "output_type": "stream",
     "text": [
      "{'learning_rate': 0.1, 'min_split_loss': 2, 'n_estimators': 600, 'subsample': 0.8}\n"
     ]
    }
   ],
   "source": [
    "xgb=XGBClassifier()\n",
    "\n",
    "xgb_params={\n",
    "        'n_estimators':[200,500,600],\n",
    "        'subsample':[0.6,0.8],\n",
    "        'min_split_loss':[1,2,3],\n",
    "        'learning_rate':[0.1,0.01]\n",
    "  \n",
    "    \n",
    "}\n",
    "xgb_cv_model=GridSearchCV(xgb, xgb_params,cv=10).fit(x_train,y_train)\n",
    "print(xgb_cv_model.best_params_)"
   ]
  },
  {
   "cell_type": "code",
   "execution_count": 97,
   "id": "a39c21b9",
   "metadata": {},
   "outputs": [
    {
     "name": "stdout",
     "output_type": "stream",
     "text": [
      "test sonucu 0.8544776119402985\n",
      "eğitim sonucu 0.92776886035313\n"
     ]
    }
   ],
   "source": [
    "xgb_final=XGBClassifier(learning_rate=0.1,min_split_loss=2,n_estimators=600,subsample=0.8,).fit(x_train,y_train)\n",
    "y_pred=xgb_final.predict(x_test)\n",
    "y_predict=xgb_final.predict(x_train)\n",
    "\n",
    "print('test sonucu' ,accuracy_score(y_test, y_pred))\n",
    "print('eğitim sonucu',accuracy_score(y_train, y_predict))\n"
   ]
  },
  {
   "cell_type": "raw",
   "id": "467b60d9",
   "metadata": {},
   "source": [
    "test sonucu olarak 0.8544776119402985 buldum."
   ]
  },
  {
   "cell_type": "code",
   "execution_count": null,
   "id": "7acb89c5",
   "metadata": {},
   "outputs": [],
   "source": []
  }
 ],
 "metadata": {
  "kernelspec": {
   "display_name": "Python 3 (ipykernel)",
   "language": "python",
   "name": "python3"
  },
  "language_info": {
   "codemirror_mode": {
    "name": "ipython",
    "version": 3
   },
   "file_extension": ".py",
   "mimetype": "text/x-python",
   "name": "python",
   "nbconvert_exporter": "python",
   "pygments_lexer": "ipython3",
   "version": "3.8.13"
  }
 },
 "nbformat": 4,
 "nbformat_minor": 5
}
